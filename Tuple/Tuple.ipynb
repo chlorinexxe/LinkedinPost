{
 "cells": [
  {
   "cell_type": "markdown",
   "metadata": {},
   "source": [
    "# Tuple\n",
    "Tuples in Python are <font color=\"red\">ordered collections</font> of items that are <font color=\"red\">immutable (unchangeable)</font>  and can contain <font color=\"red\">elements of different types</font>. In this notebook, we'll explore the basic operations and characteristics of tuples.\n",
    "\n",
    "\n"
   ]
  },
  {
   "cell_type": "markdown",
   "metadata": {},
   "source": [
    "## Creation\n",
    "Can be created with tuple() , () ,  (item, )"
   ]
  },
  {
   "cell_type": "code",
   "execution_count": 6,
   "metadata": {},
   "outputs": [
    {
     "name": "stdout",
     "output_type": "stream",
     "text": [
      "(1, 2, 3, 4)\n",
      "()\n",
      "(1,)\n"
     ]
    }
   ],
   "source": [
    "print(tuple((1,2,3,4)))     #(1,2,3,4) can be any iterable\n",
    "print(())                   #Empty Tuple\n",
    "print((1,))                 # Single item as tuple"
   ]
  },
  {
   "cell_type": "markdown",
   "metadata": {},
   "source": [
    "## Tuple Unpacking and slice"
   ]
  },
  {
   "cell_type": "code",
   "execution_count": 126,
   "metadata": {},
   "outputs": [
    {
     "name": "stdout",
     "output_type": "stream",
     "text": [
      "1 2 3\n",
      "(2, 3, 4, 3)\n",
      "(2, 4, 2)\n",
      "(0, 1, 2, 3, 4, 3, 2)\n"
     ]
    }
   ],
   "source": [
    "x,y,z=(1,2,3)       # If there are not exactly 3 elements it throws error\n",
    "print(x,y,z)\n",
    "s=slice(1,5)        # Creates a slice object which can be used in accessing elements\n",
    "print(a[s])\n",
    "s=slice(1,6,2)      # Also slice can be used to as step\n",
    "print(a[s])\n",
    "s=slice(-3,0,-1)    # And we can give negative indexing \n",
    "print(a[s])"
   ]
  },
  {
   "cell_type": "code",
   "execution_count": 125,
   "metadata": {},
   "outputs": [
    {
     "data": {
      "text/plain": [
       "(-2, -1, 0, 1, 2, 3, 4, 3, 2, 1)"
      ]
     },
     "execution_count": 125,
     "metadata": {},
     "output_type": "execute_result"
    }
   ],
   "source": [
    "s=slice(None,None,-1)      # None in start and stop means beginning and end of the tuple respectively \n",
    "a[s]                "
   ]
  },
  {
   "cell_type": "markdown",
   "metadata": {},
   "source": [
    "## Manipulation \n",
    "Consider a= (1,2,3,4,3,2,1) as a tuple for the following manipulations"
   ]
  },
  {
   "cell_type": "code",
   "execution_count": 30,
   "metadata": {},
   "outputs": [],
   "source": [
    "a=(1,2,3,4,3,2,1,0,-1,-2)"
   ]
  },
  {
   "cell_type": "code",
   "execution_count": 31,
   "metadata": {},
   "outputs": [
    {
     "name": "stdout",
     "output_type": "stream",
     "text": [
      "2\n"
     ]
    }
   ],
   "source": [
    "#Count no of item occurance\n",
    "print(a.count(3))   # Counts the number of occurance of item in the tuple"
   ]
  },
  {
   "cell_type": "code",
   "execution_count": 32,
   "metadata": {},
   "outputs": [
    {
     "name": "stdout",
     "output_type": "stream",
     "text": [
      "0\n",
      "6\n"
     ]
    }
   ],
   "source": [
    "# Returns Index\n",
    "print(a.index(1))   # Returns the index of the first occurnce of the item \n",
    "print(a.index(1,1)) # Returns the index of the first occurance from the 1st index"
   ]
  },
  {
   "cell_type": "code",
   "execution_count": 33,
   "metadata": {},
   "outputs": [
    {
     "name": "stdout",
     "output_type": "stream",
     "text": [
      "(1, 2, 3, 4, 3, 2, 1, 0, -1, -2, 5, 6, 7, 8)\n",
      "(1, 2, 3, 4, 3, 2, 1, 0, -1, -2, 1, 2, 3, 4, 3, 2, 1, 0, -1, -2)\n"
     ]
    }
   ],
   "source": [
    "# Concatenate\n",
    "print(a+(5,6,7,8))  # Adding a tuple to it\n",
    "print(a*2)          # Multiplying the tuple with 2 or can be changed"
   ]
  },
  {
   "cell_type": "code",
   "execution_count": 34,
   "metadata": {},
   "outputs": [
    {
     "name": "stdout",
     "output_type": "stream",
     "text": [
      "10\n"
     ]
    }
   ],
   "source": [
    "# Returns Length of Tuple\n",
    "print(len(a))"
   ]
  },
  {
   "cell_type": "code",
   "execution_count": 35,
   "metadata": {},
   "outputs": [
    {
     "name": "stdout",
     "output_type": "stream",
     "text": [
      "[-2, -1, 0, 1, 1, 2, 2, 3, 3, 4]\n"
     ]
    }
   ],
   "source": [
    "#Sorting a tuple \n",
    "print(sorted(a))        # Returns a List of sorted tuple"
   ]
  },
  {
   "cell_type": "code",
   "execution_count": 36,
   "metadata": {},
   "outputs": [
    {
     "name": "stdout",
     "output_type": "stream",
     "text": [
      "[-2, -1, 0, 1, 2, 3, 4, 3, 2, 1]\n"
     ]
    }
   ],
   "source": [
    "# Reversing a tuple\n",
    "print(list(reversed(a)))  # Returns a reversed sequence "
   ]
  },
  {
   "cell_type": "markdown",
   "metadata": {},
   "source": [
    "## Accessing Elements"
   ]
  },
  {
   "cell_type": "code",
   "execution_count": 41,
   "metadata": {},
   "outputs": [
    {
     "name": "stdout",
     "output_type": "stream",
     "text": [
      "4\n",
      "(2, 3, 4, 3)\n",
      "(2, 4, 2)\n"
     ]
    }
   ],
   "source": [
    "print(a[3])     # Returns a item at index 3\n",
    "print(a[1:5])   # Returns slice of the tuple from index start to end , item at index at 5 not included\n",
    "print(a[1:6:2]) # Returns slice of the tuple with a step of 2"
   ]
  },
  {
   "cell_type": "code",
   "execution_count": 139,
   "metadata": {},
   "outputs": [
    {
     "name": "stdout",
     "output_type": "stream",
     "text": [
      "(3, 2, 1, 0, -1, -2)\n",
      "(1, 2, 3, 4)\n"
     ]
    }
   ],
   "source": [
    "print(a[4:])       #  From 4th index to end\n",
    "print(a[:4])       # Upto 4th index (not included)"
   ]
  },
  {
   "cell_type": "code",
   "execution_count": 127,
   "metadata": {},
   "outputs": [
    {
     "data": {
      "text/plain": [
       "(-2, -1, 0, 1, 2, 3, 4, 3, 2, 1)"
      ]
     },
     "execution_count": 127,
     "metadata": {},
     "output_type": "execute_result"
    }
   ],
   "source": [
    "a[::-1] # Returns a reversed tuple"
   ]
  },
  {
   "cell_type": "markdown",
   "metadata": {},
   "source": [
    "## Iterations in tuple"
   ]
  },
  {
   "cell_type": "code",
   "execution_count": 52,
   "metadata": {},
   "outputs": [
    {
     "name": "stdout",
     "output_type": "stream",
     "text": [
      "1,2,3,4,3,2,1,0,-1,-2,"
     ]
    }
   ],
   "source": [
    "# for iterations\n",
    "for i in a:                 # 'For' uses sequence 'a' as length and iterates every item in the tuple\n",
    "    print(i,end=\",\")"
   ]
  },
  {
   "cell_type": "code",
   "execution_count": 54,
   "metadata": {},
   "outputs": [
    {
     "data": {
      "text/plain": [
       "[(0, 1),\n",
       " (1, 2),\n",
       " (2, 3),\n",
       " (3, 4),\n",
       " (4, 3),\n",
       " (5, 2),\n",
       " (6, 1),\n",
       " (7, 0),\n",
       " (8, -1),\n",
       " (9, -2)]"
      ]
     },
     "execution_count": 54,
     "metadata": {},
     "output_type": "execute_result"
    }
   ],
   "source": [
    "# Enumerate                 # Enumerate Creates a enumerate object which creates index and element pair from the tuple\n",
    "list(enumerate(a))"
   ]
  },
  {
   "cell_type": "code",
   "execution_count": 65,
   "metadata": {},
   "outputs": [
    {
     "data": {
      "text/plain": [
       "<tuple_iterator at 0x17e99750580>"
      ]
     },
     "execution_count": 65,
     "metadata": {},
     "output_type": "execute_result"
    }
   ],
   "source": [
    "# iter \n",
    "iter(a) # Returns an iterator object from a tuple"
   ]
  },
  {
   "cell_type": "code",
   "execution_count": 70,
   "metadata": {},
   "outputs": [
    {
     "data": {
      "text/plain": [
       "[(1, 1, 1),\n",
       " (2, 2, 2),\n",
       " (3, 3, 3),\n",
       " (4, 4, 4),\n",
       " (3, 3, 3),\n",
       " (2, 2, 2),\n",
       " (1, 1, 1),\n",
       " (0, 0, 0),\n",
       " (-1, -1, -1),\n",
       " (-2, -2, -2)]"
      ]
     },
     "execution_count": 70,
     "metadata": {},
     "output_type": "execute_result"
    }
   ],
   "source": [
    "# Zip\n",
    "list(zip(a,a,a))        # Zip aggregates elements from multiple iterables into tuples."
   ]
  },
  {
   "cell_type": "markdown",
   "metadata": {},
   "source": [
    "## Membership Test"
   ]
  },
  {
   "cell_type": "code",
   "execution_count": 78,
   "metadata": {},
   "outputs": [
    {
     "name": "stdout",
     "output_type": "stream",
     "text": [
      "3 in a \t\t: True\n",
      "3 not in a \t:  False\n"
     ]
    }
   ],
   "source": [
    "print(\"3 in a \\t\\t:\",3 in a)      # Returns true or false if item (3) in the tuple\n",
    "print(\"3 not in a \\t: \", 3 not in a)    ## Returns true or false if item (3) not in the tuple"
   ]
  },
  {
   "cell_type": "markdown",
   "metadata": {},
   "source": [
    "## Coversions"
   ]
  },
  {
   "cell_type": "code",
   "execution_count": 90,
   "metadata": {},
   "outputs": [
    {
     "name": "stdout",
     "output_type": "stream",
     "text": [
      "(1, 2, 3, 4, 3, 2, 1, 0, -1, -2)\n",
      "[1, 2, 3, 4, 3, 2, 1, 0, -1, -2]\n",
      "{0, 1, 2, 3, 4, -2, -1}\n"
     ]
    },
    {
     "data": {
      "text/plain": [
       "'(1, 2, 3, 4, 3, 2, 1, 0, -1, -2)'"
      ]
     },
     "execution_count": 90,
     "metadata": {},
     "output_type": "execute_result"
    }
   ],
   "source": [
    "print(tuple(a))     # Converting to tuple\n",
    "print(list(a))      # Converting to List\n",
    "print(set(a))       # Converting to set ( removes duplicates)\n",
    "str(a)       # Coverts to string"
   ]
  },
  {
   "cell_type": "markdown",
   "metadata": {},
   "source": [
    "I hope you found this information helpful! <br>\n",
    "Feel free to save this post for future reference.<br>\n",
    "Let's continue to learn and grow together! <br>\n",
    "<br>\n",
    "\n",
    "[Rajendra Prasad](http://chlorinexxe.github.io/portfolio)\n"
   ]
  },
  {
   "cell_type": "markdown",
   "metadata": {},
   "source": []
  }
 ],
 "metadata": {
  "kernelspec": {
   "display_name": "Python 3",
   "language": "python",
   "name": "python3"
  },
  "language_info": {
   "codemirror_mode": {
    "name": "ipython",
    "version": 3
   },
   "file_extension": ".py",
   "mimetype": "text/x-python",
   "name": "python",
   "nbconvert_exporter": "python",
   "pygments_lexer": "ipython3",
   "version": "3.12.4"
  }
 },
 "nbformat": 4,
 "nbformat_minor": 2
}
