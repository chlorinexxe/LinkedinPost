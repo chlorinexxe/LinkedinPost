{
 "cells": [
  {
   "cell_type": "markdown",
   "metadata": {},
   "source": [
    "# Pandas - Series"
   ]
  },
  {
   "cell_type": "markdown",
   "metadata": {},
   "source": [
    "• One Dimensional ndarray with index labels. <Br>\n",
    "• It is Homogenous , Labeled , Size Immutable.<br>\n",
    "• Labels need not to be unique but hashable.<Br>"
   ]
  },
  {
   "cell_type": "code",
   "execution_count": 1,
   "metadata": {},
   "outputs": [],
   "source": [
    "#Importing\n",
    "import pandas as pd"
   ]
  },
  {
   "cell_type": "markdown",
   "metadata": {},
   "source": [
    "## Creating Series"
   ]
  },
  {
   "cell_type": "code",
   "execution_count": 2,
   "metadata": {},
   "outputs": [
    {
     "data": {
      "text/plain": [
       "Series([], dtype: object)"
      ]
     },
     "execution_count": 2,
     "metadata": {},
     "output_type": "execute_result"
    }
   ],
   "source": [
    "pd.Series() # Create a empty series"
   ]
  },
  {
   "cell_type": "code",
   "execution_count": 3,
   "metadata": {},
   "outputs": [
    {
     "name": "stdout",
     "output_type": "stream",
     "text": [
      "0    0\n",
      "1    1\n",
      "2    2\n",
      "3    3\n",
      "4    4\n",
      "5    5\n",
      "dtype: int64\n"
     ]
    }
   ],
   "source": [
    "a=pd.Series([i for i in range(6)]) # Creating a iterable as series\n",
    "print(a)"
   ]
  },
  {
   "cell_type": "code",
   "execution_count": 4,
   "metadata": {},
   "outputs": [
    {
     "name": "stdout",
     "output_type": "stream",
     "text": [
      "1st Index    [a, b, c]\n",
      "2nd Index    [d, e, f]\n",
      "3rd Index    [g, h, i]\n",
      "dtype: object\n"
     ]
    }
   ],
   "source": [
    "a={'1st Index':['a','b','c'],'2nd Index':['d','e','f'],'3rd Index':['g','h','i']}\n",
    "a=pd.Series(a)\n",
    "print(a) # To show Dict keys are assigned in Index and values in data."
   ]
  },
  {
   "cell_type": "markdown",
   "metadata": {},
   "source": [
    "## Inspecting "
   ]
  },
  {
   "cell_type": "code",
   "execution_count": 5,
   "metadata": {},
   "outputs": [],
   "source": [
    "a=dict(zip([chr(i) for i in range(97,107)],[[i**2,i**3] for i in range(10)]))"
   ]
  },
  {
   "cell_type": "code",
   "execution_count": 6,
   "metadata": {},
   "outputs": [
    {
     "name": "stdout",
     "output_type": "stream",
     "text": [
      "a       [0, 0]\n",
      "b       [1, 1]\n",
      "c       [4, 8]\n",
      "d      [9, 27]\n",
      "e     [16, 64]\n",
      "f    [25, 125]\n",
      "g    [36, 216]\n",
      "h    [49, 343]\n",
      "i    [64, 512]\n",
      "j    [81, 729]\n",
      "dtype: object\n"
     ]
    }
   ],
   "source": [
    "s=pd.Series(a)\n",
    "print(s)"
   ]
  },
  {
   "cell_type": "code",
   "execution_count": 7,
   "metadata": {},
   "outputs": [
    {
     "name": "stdout",
     "output_type": "stream",
     "text": [
      "Head(5)\n",
      " a      [0, 0]\n",
      "b      [1, 1]\n",
      "c      [4, 8]\n",
      "d     [9, 27]\n",
      "e    [16, 64]\n",
      "dtype: object \n",
      "\n",
      "Tail(5)\n",
      " f    [25, 125]\n",
      "g    [36, 216]\n",
      "h    [49, 343]\n",
      "i    [64, 512]\n",
      "j    [81, 729]\n",
      "dtype: object \n",
      "\n",
      "\n",
      "Sample(5):\n",
      " d      [9, 27]\n",
      "i    [64, 512]\n",
      "b       [1, 1]\n",
      "a       [0, 0]\n",
      "e     [16, 64]\n",
      "dtype: object \n",
      "\n"
     ]
    }
   ],
   "source": [
    "# Head \n",
    "print(\"Head(5)\\n\",s.head(5),\"\\n\")               # top 5\n",
    "\n",
    "# Tail\n",
    "print(\"Tail(5)\\n\",s.tail(5),'\\n\\n')               # Bottom 5\n",
    "\n",
    "# Sample\n",
    "print(\"Sample(5):\\n\",s.sample(5),'\\n')             # Random 5  "
   ]
  },
  {
   "cell_type": "code",
   "execution_count": 8,
   "metadata": {},
   "outputs": [
    {
     "data": {
      "text/plain": [
       "a    0\n",
       "b    1\n",
       "c    2\n",
       "d    3\n",
       "e    4\n",
       "f    5\n",
       "g    6\n",
       "h    7\n",
       "i    8\n",
       "j    9\n",
       "dtype: int64"
      ]
     },
     "execution_count": 8,
     "metadata": {},
     "output_type": "execute_result"
    }
   ],
   "source": [
    "a=dict(zip([chr(i) for i in range(97,107)],[i for i in range(10)]))\n",
    "s=pd.Series(a)\n",
    "s"
   ]
  },
  {
   "cell_type": "code",
   "execution_count": 9,
   "metadata": {},
   "outputs": [
    {
     "name": "stdout",
     "output_type": "stream",
     "text": [
      "Describe\n",
      " count    10.00000\n",
      "mean      4.50000\n",
      "std       3.02765\n",
      "min       0.00000\n",
      "25%       2.25000\n",
      "50%       4.50000\n",
      "75%       6.75000\n",
      "max       9.00000\n",
      "dtype: float64\n"
     ]
    }
   ],
   "source": [
    "print(\"Describe\\n\",s.describe(include='all'))   # Descriptive statistics on the Series"
   ]
  },
  {
   "cell_type": "markdown",
   "metadata": {},
   "source": [
    "## Manipulations and Transformations"
   ]
  },
  {
   "cell_type": "code",
   "execution_count": 10,
   "metadata": {},
   "outputs": [
    {
     "name": "stdout",
     "output_type": "stream",
     "text": [
      "Astype \n",
      " a    0\n",
      "b    1\n",
      "c    2\n",
      "d    3\n",
      "e    4\n",
      "f    5\n",
      "g    6\n",
      "h    7\n",
      "i    8\n",
      "j    9\n",
      "dtype: object\n"
     ]
    }
   ],
   "source": [
    "# Change type\n",
    "print(\"Astype \\n\",s.astype('str'))  # Change int to object"
   ]
  },
  {
   "cell_type": "code",
   "execution_count": 11,
   "metadata": {},
   "outputs": [
    {
     "name": "stdout",
     "output_type": "stream",
     "text": [
      "a    0\n",
      "b    1\n",
      "c    2\n",
      "d    3\n",
      "e    4\n",
      "f    5\n",
      "g    6\n",
      "h    7\n",
      "i    8\n",
      "j    9\n",
      "dtype: int64\n"
     ]
    }
   ],
   "source": [
    "# Copy \n",
    "s1=s.copy()\n",
    "print(s1)"
   ]
  },
  {
   "cell_type": "code",
   "execution_count": 12,
   "metadata": {},
   "outputs": [
    {
     "data": {
      "text/plain": [
       "a     0\n",
       "b     1\n",
       "c     4\n",
       "d     9\n",
       "e    16\n",
       "f    25\n",
       "g    36\n",
       "h    49\n",
       "i    64\n",
       "j    81\n",
       "dtype: int64"
      ]
     },
     "execution_count": 12,
     "metadata": {},
     "output_type": "execute_result"
    }
   ],
   "source": [
    "def sqr(i):\n",
    "    return i**2    \n",
    "s.apply(sqr)   # Apply Function"
   ]
  },
  {
   "cell_type": "code",
   "execution_count": 13,
   "metadata": {},
   "outputs": [
    {
     "data": {
      "text/plain": [
       "a     low\n",
       "b     low\n",
       "c     low\n",
       "d     low\n",
       "e     low\n",
       "f    h!gh\n",
       "g    h!gh\n",
       "h    h!gh\n",
       "i    h!gh\n",
       "j    h!gh\n",
       "dtype: object"
      ]
     },
     "execution_count": 13,
     "metadata": {},
     "output_type": "execute_result"
    }
   ],
   "source": [
    "# Map Function\n",
    "def hl(i):\n",
    "    if i<5:\n",
    "        return 'low'\n",
    "    if i>=5:\n",
    "        return \"h!gh\"\n",
    "s1=s.map(hl)\n",
    "s1"
   ]
  },
  {
   "cell_type": "code",
   "execution_count": 14,
   "metadata": {},
   "outputs": [
    {
     "data": {
      "text/plain": [
       "a     low\n",
       "b     low\n",
       "c     low\n",
       "d     low\n",
       "e     low\n",
       "f    high\n",
       "g    high\n",
       "h    high\n",
       "i    high\n",
       "j    high\n",
       "dtype: object"
      ]
     },
     "execution_count": 14,
     "metadata": {},
     "output_type": "execute_result"
    }
   ],
   "source": [
    "s1.str.replace('!','i')"
   ]
  },
  {
   "cell_type": "markdown",
   "metadata": {},
   "source": [
    "## Aggregation and Statistical Operations"
   ]
  },
  {
   "cell_type": "code",
   "execution_count": 15,
   "metadata": {},
   "outputs": [
    {
     "name": "stdout",
     "output_type": "stream",
     "text": [
      "Sum \t: 45\n",
      "Mean \t: 4.5\n",
      "Median\t: 4.5\n",
      "Std\t: 3.0276503540974917\n",
      "Min\t: 0\n",
      "Max \t: 9\n",
      "ValueCounts\t:\n",
      "0    1\n",
      "1    1\n",
      "2    1\n",
      "3    1\n",
      "4    1\n",
      "5    1\n",
      "6    1\n",
      "7    1\n",
      "8    1\n",
      "9    1\n",
      "Name: count, dtype: int64\n"
     ]
    }
   ],
   "source": [
    "# Sum\n",
    "print(\"Sum \\t:\",s.sum())\n",
    "print(\"Mean \\t:\",s.mean())\n",
    "print(\"Median\\t:\",s.median())\n",
    "print(\"Std\\t:\",s.std())\n",
    "print(\"Min\\t:\",s.min())\n",
    "print(\"Max \\t:\",s.max())\n",
    "print(f\"ValueCounts\\t:\\n{s.value_counts()}\")"
   ]
  },
  {
   "cell_type": "markdown",
   "metadata": {},
   "source": [
    "## Sorting and Indexing"
   ]
  },
  {
   "cell_type": "code",
   "execution_count": 16,
   "metadata": {},
   "outputs": [
    {
     "data": {
      "text/plain": [
       "j    9\n",
       "i    8\n",
       "h    7\n",
       "g    6\n",
       "f    5\n",
       "e    4\n",
       "d    3\n",
       "c    2\n",
       "b    1\n",
       "a    0\n",
       "dtype: int64"
      ]
     },
     "execution_count": 16,
     "metadata": {},
     "output_type": "execute_result"
    }
   ],
   "source": [
    "s.sort_values(ascending=False)  # Sort based on Values "
   ]
  },
  {
   "cell_type": "code",
   "execution_count": 17,
   "metadata": {},
   "outputs": [
    {
     "data": {
      "text/plain": [
       "j    9\n",
       "i    8\n",
       "h    7\n",
       "g    6\n",
       "f    5\n",
       "e    4\n",
       "d    3\n",
       "c    2\n",
       "b    1\n",
       "a    0\n",
       "dtype: int64"
      ]
     },
     "execution_count": 17,
     "metadata": {},
     "output_type": "execute_result"
    }
   ],
   "source": [
    "s.sort_index(ascending=False)   # Sort based on index"
   ]
  },
  {
   "cell_type": "markdown",
   "metadata": {},
   "source": [
    "## Selection , Filtering and Handling Missing Data"
   ]
  },
  {
   "cell_type": "code",
   "execution_count": 18,
   "metadata": {},
   "outputs": [
    {
     "name": "stdout",
     "output_type": "stream",
     "text": [
      "a    0\n",
      "b    1\n",
      "c    2\n",
      "d    3\n",
      "e    4\n",
      "dtype: int64\n",
      "c    2\n",
      "d    3\n",
      "f    5\n",
      "dtype: int64\n"
     ]
    },
    {
     "name": "stderr",
     "output_type": "stream",
     "text": [
      "C:\\Users\\rajen\\AppData\\Local\\Temp\\ipykernel_16052\\135015164.py:3: FutureWarning: Series.__getitem__ treating keys as positions is deprecated. In a future version, integer keys will always be treated as labels (consistent with DataFrame behavior). To access a value by position, use `ser.iloc[pos]`\n",
      "  print(s[[2,3,5]])   # Multiple Selection\n"
     ]
    }
   ],
   "source": [
    "# Selecting\n",
    "print(s[0:5])       # Slicing\n",
    "print(s[[2,3,5]])   # Multiple Selection"
   ]
  },
  {
   "cell_type": "code",
   "execution_count": 19,
   "metadata": {},
   "outputs": [],
   "source": [
    "s=pd.Series([1,2,None,4,None,5,3,2])"
   ]
  },
  {
   "cell_type": "code",
   "execution_count": 20,
   "metadata": {},
   "outputs": [
    {
     "name": "stdout",
     "output_type": "stream",
     "text": [
      "0    1.0\n",
      "1    2.0\n",
      "2    NaN\n",
      "3    4.0\n",
      "4    NaN\n",
      "5    5.0\n",
      "dtype: float64\n",
      "1    2.0\n",
      "2    NaN\n",
      "3    4.0\n",
      "dtype: float64\n"
     ]
    }
   ],
   "source": [
    "print(s.loc[0:5])       #Label Indexing\n",
    "print(s.iloc[[1,2,3]])  #Integer Indexing"
   ]
  },
  {
   "cell_type": "code",
   "execution_count": 21,
   "metadata": {},
   "outputs": [
    {
     "data": {
      "text/plain": [
       "0    1.0\n",
       "1    2.0\n",
       "2    NaN\n",
       "3    4.0\n",
       "4    NaN\n",
       "5    5.0\n",
       "6    3.0\n",
       "7    2.0\n",
       "dtype: float64"
      ]
     },
     "execution_count": 21,
     "metadata": {},
     "output_type": "execute_result"
    }
   ],
   "source": [
    "s"
   ]
  },
  {
   "cell_type": "code",
   "execution_count": 22,
   "metadata": {},
   "outputs": [
    {
     "name": "stdout",
     "output_type": "stream",
     "text": [
      "0    False\n",
      "1    False\n",
      "2     True\n",
      "3    False\n",
      "4     True\n",
      "5    False\n",
      "6    False\n",
      "7    False\n",
      "dtype: bool\n",
      "Sum of Total Null : 2\n"
     ]
    }
   ],
   "source": [
    "# Isnull - Returns a bool \n",
    "print(s.isnull())      \n",
    "print(\"Sum of Total Null :\",s.isnull().sum())"
   ]
  },
  {
   "cell_type": "code",
   "execution_count": 23,
   "metadata": {},
   "outputs": [
    {
     "name": "stdout",
     "output_type": "stream",
     "text": [
      "0    False\n",
      "1    False\n",
      "2     True\n",
      "3    False\n",
      "4     True\n",
      "5    False\n",
      "6    False\n",
      "7    False\n",
      "dtype: bool\n"
     ]
    }
   ],
   "source": [
    "# Isna\n",
    "print(s.isna())"
   ]
  },
  {
   "cell_type": "code",
   "execution_count": 24,
   "metadata": {},
   "outputs": [
    {
     "data": {
      "text/plain": [
       "0    1.0\n",
       "1    2.0\n",
       "2    5.0\n",
       "3    4.0\n",
       "4    5.0\n",
       "5    5.0\n",
       "6    3.0\n",
       "7    2.0\n",
       "dtype: float64"
      ]
     },
     "execution_count": 24,
     "metadata": {},
     "output_type": "execute_result"
    }
   ],
   "source": [
    "s.fillna(5)         # Fills missing values"
   ]
  },
  {
   "cell_type": "code",
   "execution_count": 25,
   "metadata": {},
   "outputs": [
    {
     "data": {
      "text/plain": [
       "0    1.0\n",
       "1    2.0\n",
       "3    4.0\n",
       "5    5.0\n",
       "6    3.0\n",
       "7    2.0\n",
       "dtype: float64"
      ]
     },
     "execution_count": 25,
     "metadata": {},
     "output_type": "execute_result"
    }
   ],
   "source": [
    "s.dropna(inplace=True)  # Removes the NaN values\n",
    "s"
   ]
  },
  {
   "cell_type": "code",
   "execution_count": 26,
   "metadata": {},
   "outputs": [],
   "source": [
    "t=pd.Series(range(10))"
   ]
  },
  {
   "cell_type": "code",
   "execution_count": 27,
   "metadata": {},
   "outputs": [
    {
     "data": {
      "text/plain": [
       "0    False\n",
       "1     True\n",
       "2     True\n",
       "3     True\n",
       "4     True\n",
       "5     True\n",
       "6    False\n",
       "7    False\n",
       "8    False\n",
       "9    False\n",
       "dtype: bool"
      ]
     },
     "execution_count": 27,
     "metadata": {},
     "output_type": "execute_result"
    }
   ],
   "source": [
    "t.isin(s)       # Checks t is in s"
   ]
  },
  {
   "cell_type": "code",
   "execution_count": 28,
   "metadata": {},
   "outputs": [
    {
     "data": {
      "text/plain": [
       "0    False\n",
       "1    False\n",
       "2    False\n",
       "3    False\n",
       "4    False\n",
       "5     True\n",
       "6     True\n",
       "7     True\n",
       "8     True\n",
       "9     True\n",
       "dtype: bool"
      ]
     },
     "execution_count": 28,
     "metadata": {},
     "output_type": "execute_result"
    }
   ],
   "source": [
    "# Filetering\n",
    "t>4 # Returns all Bool"
   ]
  },
  {
   "cell_type": "code",
   "execution_count": 29,
   "metadata": {},
   "outputs": [
    {
     "data": {
      "text/plain": [
       "5    5\n",
       "6    6\n",
       "7    7\n",
       "8    8\n",
       "9    9\n",
       "dtype: int64"
      ]
     },
     "execution_count": 29,
     "metadata": {},
     "output_type": "execute_result"
    }
   ],
   "source": [
    "t[t>4] # Returns all values that are true"
   ]
  },
  {
   "cell_type": "markdown",
   "metadata": {},
   "source": [
    "I hope you found this information helpful! <br>\n",
    "Feel free to save this post for future reference.<br>\n",
    "Let's continue to learn and grow together! <br>\n",
    "<br>\n",
    "\n",
    "[Rajendra Prasad](http://chlorinexxe.github.io/portfolio)\n"
   ]
  }
 ],
 "metadata": {
  "kernelspec": {
   "display_name": "Python 3",
   "language": "python",
   "name": "python3"
  },
  "language_info": {
   "codemirror_mode": {
    "name": "ipython",
    "version": 3
   },
   "file_extension": ".py",
   "mimetype": "text/x-python",
   "name": "python",
   "nbconvert_exporter": "python",
   "pygments_lexer": "ipython3",
   "version": "3.12.4"
  }
 },
 "nbformat": 4,
 "nbformat_minor": 2
}
