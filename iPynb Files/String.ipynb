{
 "cells": [
  {
   "cell_type": "markdown",
   "metadata": {},
   "source": [
    "# String\n",
    "A string is a sequence of characters enclosed within either single quotes '' or double quotes \"\".<br>\n",
    "String are immutable "
   ]
  },
  {
   "cell_type": "markdown",
   "metadata": {},
   "source": [
    "## Creating"
   ]
  },
  {
   "cell_type": "code",
   "execution_count": 1,
   "metadata": {},
   "outputs": [
    {
     "name": "stdout",
     "output_type": "stream",
     "text": [
      "\n",
      "Hello\n"
     ]
    }
   ],
   "source": [
    "print(str())        # Create a empty string\n",
    "print('Hello')      # Create a string within double quotes/"
   ]
  },
  {
   "cell_type": "markdown",
   "metadata": {},
   "source": [
    "## Manipulation \n",
    "consider a= 'hello world' "
   ]
  },
  {
   "cell_type": "code",
   "execution_count": 2,
   "metadata": {},
   "outputs": [],
   "source": [
    "a= 'hello World\\t' "
   ]
  },
  {
   "cell_type": "code",
   "execution_count": 3,
   "metadata": {},
   "outputs": [
    {
     "name": "stdout",
     "output_type": "stream",
     "text": [
      "Capitalize \t:Hello world\t\n",
      "Casefold \t:hello world\t\n",
      "Centre \t\t:    hello World\t    \n",
      "Encode \t\t:b'\\xff\\xfeh\\x00e\\x00l\\x00l\\x00o\\x00 \\x00W\\x00o\\x00r\\x00l\\x00d\\x00\\t\\x00'\n",
      "Expandtabs \t:hello World     \n",
      "Join \t\t:hello World\t,hello World\t\n",
      "Ljust \t\t:hello World\t                             \n",
      "Rjust \t\t:                            hello World\t\n"
     ]
    }
   ],
   "source": [
    "print('Capitalize \\t:'+a.capitalize())                           # Returns a copy of first character capitalized string\n",
    "print('Casefold \\t:'+a.casefold())                             # Returns a copy of casefolded string for case-insensitive comparison\n",
    "print('Centre \\t\\t:'+a.center(20))                             # Return a centered string of length width.\n",
    "print(f'Encode \\t\\t:{a.encode(encoding='UTF-16')}')              # Encode the string using the codec registered for encoding.\n",
    "print('Expandtabs \\t:'+a.expandtabs())                           # Returns copy of string where all tab characters are replaced by spaces\n",
    "print('Join \\t\\t:'+','.join((a,a)))                                 # Concatinates strings from the iterables with the intial string being separator.\n",
    "print('Ljust \\t\\t:'+a.ljust(41))                              # Returns a left justified string of length width with the original string\n",
    "print('Rjust \\t\\t:'+a.rjust(40))                              # Returns a right justified string of length width "
   ]
  },
  {
   "cell_type": "code",
   "execution_count": 4,
   "metadata": {},
   "outputs": [
    {
     "name": "stdout",
     "output_type": "stream",
     "text": [
      "Lstrip \t\t:Strip example     \n",
      "Rstrip \t\t:    Strip example\n",
      "Strip \t\t:Strip example\n"
     ]
    }
   ],
   "source": [
    "a='    Strip example     '\n",
    "print('Lstrip \\t\\t:'+a.lstrip())    #Return a copy of the string with leading whitespace removed.\n",
    "print('Rstrip \\t\\t:'+a.rstrip())    #Return a copy of the string with leading whitespace removed.\n",
    "print('Strip \\t\\t:'+a.strip())      #Return a copy of the string with leading whitespace removed."
   ]
  },
  {
   "cell_type": "code",
   "execution_count": 5,
   "metadata": {},
   "outputs": [
    {
     "name": "stdout",
     "output_type": "stream",
     "text": [
      "Patition \t:('partition', ',', 'replace')\n",
      "Replace \t:partition replace\n",
      "Split \t\t:['partition', 'replace']\n",
      "Title \t\t:Partition,Replace\n",
      "Swapcase \t:PARTITION,REPLACE\n",
      "Zfill \t\t:000partition,replace\n"
     ]
    }
   ],
   "source": [
    "a='partition,replace'\n",
    "print(f'Patition \\t:{a.partition(',')}')        # Returns a tuple separating the string in 3 parts\n",
    "print('Replace \\t:'+a.replace(',',' '))         # Retunrs a copy of the replace string with all occurences\n",
    "print(f'Split \\t\\t:{a.split(',')}')             # Return a list of the substrings in the string, using sep as the separator string.\n",
    "print('Title \\t\\t:'+a.title())                  # Returns a title cased version of string\n",
    "print('Swapcase \\t:'+a.swapcase())              # Returns a string of uppercase char converted to lowercase or viceverse\n",
    "print('Zfill \\t\\t:'+a.zfill(20))                # Returns a string of zeros filled on the left"
   ]
  },
  {
   "cell_type": "markdown",
   "metadata": {},
   "source": [
    "## Inspection"
   ]
  },
  {
   "cell_type": "code",
   "execution_count": 6,
   "metadata": {},
   "outputs": [
    {
     "name": "stdout",
     "output_type": "stream",
     "text": [
      "Count  \t\t:2\n",
      "Endswith \t:True\n",
      "Find \t\t:22\n",
      "Index \t\t:8\n"
     ]
    }
   ],
   "source": [
    "a='Inspection of a  String'\n",
    "print(f'Count  \\t\\t:{a.count('i')}')        # Returns the number of occurrences of substring in the range\n",
    "print(f'Endswith \\t:{a.endswith('ng')}')    # Return True if S ends with the specified suffix, False otherwise. \n",
    "print(f'Find \\t\\t:{a.find('g')}')           # Return the lowest index in S where substring sub is found.\n",
    "print(f'Index \\t\\t:{a.index('o')}')         # Return the lowest index in S where substring sub is found."
   ]
  },
  {
   "cell_type": "code",
   "execution_count": 7,
   "metadata": {},
   "outputs": [
    {
     "name": "stdout",
     "output_type": "stream",
     "text": [
      "String\t\tPython\tPython123\t12\n",
      "Isalnum \t:True\tTrue\t\tTrue\n",
      "Isalpha \t:True\tFalse\t\tFalse\n",
      "Isascii \t:True\tTrue\t\tTrue\n",
      "Isdecimal\t:False\tFalse\t\tTrue\n",
      "isdigit \t:False\tFalse\t\tTrue\n",
      "Isidentifier\t:True\tTrue\t\tFalse\n",
      "islower\t\t:False\tFalse\t\tFalse\n"
     ]
    }
   ],
   "source": [
    "a='Python'\n",
    "b='Python123'\n",
    "c='12'\n",
    "print(f\"String\\t\\t{a}\\t{b}\\t{c}\")\n",
    "print(f'Isalnum \\t:{a.isalnum()}\\t{b.isalnum()}\\t\\t{c.isalnum()}')              # Return True if the string is an alpha-numeric string, False otherwise.\n",
    "print(f'Isalpha \\t:{a.isalpha()}\\t{b.isalpha()}\\t\\t{c.isalpha()}')              # Return True if the string is an alphabetic string, False otherwise.\n",
    "print(f\"Isascii \\t:{a.isascii()}\\t{b.isascii()}\\t\\t{c.isascii()}\")              # Return True if all characters in the string are ASCII, False otherwise.\n",
    "print(f\"Isdecimal\\t:{a.isdecimal()}\\t{b.isdecimal()}\\t\\t{c.isdecimal()}\")       # Return True if the string is a decimal string, False otherwise.\n",
    "print(f\"isdigit \\t:{a.isdigit()}\\t{b.isdigit()}\\t\\t{c.isdigit()}\")              # Return True if the string is a digit string, False otherwise.\n",
    "print(f\"Isidentifier\\t:{a.isidentifier()}\\t{b.isidentifier()}\\t\\t{c.isidentifier()}\") # Return True if the string is a valid Python identifier, False otherwise.\n",
    "print(f\"islower\\t\\t:{a.islower()}\\t{b.islower()}\\t\\t{c.islower()}\")"
   ]
  },
  {
   "cell_type": "code",
   "execution_count": 1,
   "metadata": {},
   "outputs": [
    {
     "name": "stdout",
     "output_type": "stream",
     "text": [
      "String\t\tPYTHON\tPython123\t12\n",
      "isnumeric \t:False\tFalse\t\tTrue\n",
      "isprintable \t:True\tTrue\t\tTrue\n",
      "isspace \t:False\tFalse\t\tFalse\n",
      "istite \t\t:False\tTrue\t\tFalse\n",
      "isupper \t:True\tFalse\t\tFalse\n",
      "stratswith\t:True\tFalse\t\tTrue\n"
     ]
    }
   ],
   "source": [
    "a='PYTHON'\n",
    "b='Python123'\n",
    "c='12'\n",
    "print(f\"String\\t\\t{a}\\t{b}\\t{c}\")\n",
    "print(f'isnumeric \\t:{a.isnumeric()}\\t{b.isnumeric()}\\t\\t{c.isnumeric()}')              # Return True if the string is a numeric string, False otherwise.\n",
    "print(f\"isprintable \\t:{a.isprintable()}\\t{b.isprintable()}\\t\\t{c.isprintable()}\")      # Return True if the string is printable, False otherwise.\n",
    "print(f\"isspace \\t:{a.isspace()}\\t{b.isspace()}\\t\\t{c.isspace()}\")                      # Return True if the string is a whitespace string, False otherwise.\n",
    "print(f\"istite \\t\\t:{a.istitle()}\\t{b.istitle()}\\t\\t{c.istitle()}\")                     # Return True if the string is a title-cased string, False otherwise.\n",
    "print(f\"isupper \\t:{a.isupper()}\\t{b.isupper()}\\t\\t{c.isupper()}\")                      # Return True if the string is an uppercase string, False otherwise.\n",
    "print(f\"stratswith\\t:{a.startswith('P')}\\t{b.startswith('p')}\\t\\t{c.startswith('1')}\")  # Return True if S starts with the specified prefix, False otherwise."
   ]
  },
  {
   "cell_type": "markdown",
   "metadata": {},
   "source": [
    "## Transformation"
   ]
  },
  {
   "cell_type": "code",
   "execution_count": 7,
   "metadata": {},
   "outputs": [
    {
     "name": "stdout",
     "output_type": "stream",
     "text": [
      "Lower \t\t:hello world\n",
      "Upper \t\t:HELLO WORLD\n",
      "Swapcase\t:hELLO WORLD\n",
      "Title \t\t:Hello World\n"
     ]
    }
   ],
   "source": [
    "a='Hello world'\n",
    "print(f'Lower \\t\\t:{a.lower()}')        # Return a copy of the string converted to lowercase.\n",
    "print(f'Upper \\t\\t:{a.upper()}')        # Return a copy of the string converted to uppercase.\n",
    "print(f\"Swapcase\\t:{a.swapcase()}\")     # Convert uppercase characters to lowercase and lowercase characters to uppercase.\n",
    "print(f\"Title \\t\\t:{a.title()}\")        # Return a version of the string where each word is titlecased."
   ]
  },
  {
   "cell_type": "markdown",
   "metadata": {},
   "source": [
    "## Formatting"
   ]
  },
  {
   "cell_type": "code",
   "execution_count": 9,
   "metadata": {},
   "outputs": [
    {
     "name": "stdout",
     "output_type": "stream",
     "text": [
      "My name is Alice and I am 30 years old.\n"
     ]
    }
   ],
   "source": [
    "name = \"Alice\"\n",
    "age = 30\n",
    "formatted_string = \"My name is {} and I am {} years old.\".format(name, age)\n",
    "print(formatted_string)"
   ]
  },
  {
   "cell_type": "code",
   "execution_count": 10,
   "metadata": {},
   "outputs": [
    {
     "name": "stdout",
     "output_type": "stream",
     "text": [
      "My name is Alice and I am 30 years old.\n"
     ]
    }
   ],
   "source": [
    "person = {'name': 'Alice', 'age': 30}\n",
    "formatted_string = \"My name is {name} and I am {age} years old.\".format_map(person)\n",
    "print(formatted_string)"
   ]
  },
  {
   "cell_type": "code",
   "execution_count": 12,
   "metadata": {},
   "outputs": [
    {
     "name": "stdout",
     "output_type": "stream",
     "text": [
      "h2ll4 w4rld\n"
     ]
    }
   ],
   "source": [
    "# Maketrans\n",
    "# Creating a translation table to replace characters\n",
    "table = str.maketrans('aeiou', '12345')\n",
    "example_string = \"hello world\"\n",
    "# Applying translation using translate() method\n",
    "translated_string = example_string.translate(table)\n",
    "print(translated_string)\n"
   ]
  },
  {
   "cell_type": "markdown",
   "metadata": {},
   "source": [
    "I hope you found this information helpful! <br>\n",
    "Feel free to save this post for future reference.<br>\n",
    "Let's continue to learn and grow together! <br>\n",
    "<br>\n",
    "\n",
    "[Rajendra Prasad](http://chlorinexxe.github.io/portfolio)\n"
   ]
  }
 ],
 "metadata": {
  "kernelspec": {
   "display_name": "Python 3",
   "language": "python",
   "name": "python3"
  },
  "language_info": {
   "codemirror_mode": {
    "name": "ipython",
    "version": 3
   },
   "file_extension": ".py",
   "mimetype": "text/x-python",
   "name": "python",
   "nbconvert_exporter": "python",
   "pygments_lexer": "ipython3",
   "version": "3.12.4"
  }
 },
 "nbformat": 4,
 "nbformat_minor": 2
}
