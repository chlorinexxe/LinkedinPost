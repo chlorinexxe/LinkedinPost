{
 "cells": [
  {
   "cell_type": "markdown",
   "metadata": {},
   "source": [
    "# Numpy"
   ]
  },
  {
   "cell_type": "code",
   "execution_count": 1,
   "metadata": {},
   "outputs": [],
   "source": [
    "import numpy as np"
   ]
  },
  {
   "cell_type": "markdown",
   "metadata": {},
   "source": [
    "## Array Creation"
   ]
  },
  {
   "cell_type": "code",
   "execution_count": 2,
   "metadata": {},
   "outputs": [
    {
     "name": "stdout",
     "output_type": "stream",
     "text": [
      "<class 'numpy.ndarray'>\n"
     ]
    }
   ],
   "source": [
    "a=np.array([1,2,3])\n",
    "print(type(a))                  # Shows type"
   ]
  },
  {
   "cell_type": "code",
   "execution_count": 3,
   "metadata": {},
   "outputs": [
    {
     "name": "stdout",
     "output_type": "stream",
     "text": [
      "Array :\n",
      " [1 2 3]\n",
      "Zero Array :\n",
      " [[0. 0.]\n",
      " [0. 0.]]\n",
      "Ones Array :\n",
      " [[1. 1.]\n",
      " [1. 1.]]\n"
     ]
    }
   ],
   "source": [
    "print(\"Array :\\n\",np.array([1,2,3]))                    # Create a array from an object\n",
    "print(\"Zero Array :\\n\",np.zeros((2,2)))                 # Create a 2X2 matrix with zeros\n",
    "print(\"Ones Array :\\n\",np.ones((2,2)))                  # Create a 2X2 matri with ones"
   ]
  },
  {
   "cell_type": "code",
   "execution_count": 4,
   "metadata": {},
   "outputs": [
    {
     "name": "stdout",
     "output_type": "stream",
     "text": [
      "Empty Array :\n",
      " [[ 773104814 -508332684]\n",
      " [2141814533 1087262674]]\n",
      "Array :\n",
      " [[2 2]\n",
      " [2 2]]\n",
      "Array :\n",
      " [0 2 4 6]\n"
     ]
    }
   ],
   "source": [
    "print(\"Empty Array :\\n\",np.empty([2,2],dtype=int))      # Create a array of shape with out initializing entries\n",
    "print(\"Array :\\n\",np.full((2,2),fill_value=2))          # Returns a array of given shape with fill_value\n",
    "print(\"Array :\\n\",np.arange(0,7,2))                     # Returns a array of evenly spaced with given interval"
   ]
  },
  {
   "cell_type": "code",
   "execution_count": 5,
   "metadata": {},
   "outputs": [
    {
     "name": "stdout",
     "output_type": "stream",
     "text": [
      "Linspace \t: [1.   1.25 1.5  1.75 2.  ]\n",
      "Logspace \t: [ 100.          177.827941    316.22776602  562.34132519 1000.        ]\n"
     ]
    }
   ],
   "source": [
    "print('Linspace \\t:',np.linspace(1,2,5))    # Returns a evenly spaced numbers over a specified interval\n",
    "print('Logspace \\t:',np.logspace(2,3,5))    # Returns numbers spaced evenly on a log scale"
   ]
  },
  {
   "cell_type": "markdown",
   "metadata": {},
   "source": [
    "## Array Manipulation\n",
    "Consider a=np.arange(0,10)"
   ]
  },
  {
   "cell_type": "code",
   "execution_count": 6,
   "metadata": {},
   "outputs": [],
   "source": [
    "a=np.arange(6)"
   ]
  },
  {
   "cell_type": "code",
   "execution_count": 7,
   "metadata": {},
   "outputs": [
    {
     "name": "stdout",
     "output_type": "stream",
     "text": [
      "Reshape :\n",
      " [[0 1]\n",
      " [2 3]\n",
      " [4 5]]\n",
      "Transpose : \n",
      " [[0 2 4]\n",
      " [1 3 5]]\n"
     ]
    }
   ],
   "source": [
    "print('Reshape :\\n',np.arange(6).reshape((3, 2)))\n",
    "print('Transpose : \\n',np.arange(6).reshape((3,2)).transpose())"
   ]
  },
  {
   "cell_type": "code",
   "execution_count": 8,
   "metadata": {},
   "outputs": [
    {
     "name": "stdout",
     "output_type": "stream",
     "text": [
      "Concatenate :\n",
      " [0 1 2 3 4 5 0 1 2 3 4 5]\n",
      "Stack :\n",
      " [[0 1 2 3 4 5]\n",
      " [0 1 2 3 4 5]]\n",
      "Stack :\n",
      " [[0 0]\n",
      " [1 1]\n",
      " [2 2]\n",
      " [3 3]\n",
      " [4 4]\n",
      " [5 5]]\n"
     ]
    }
   ],
   "source": [
    "print(\"Concatenate :\\n\",np.concatenate((a,a),axis=0))\n",
    "print('Stack :\\n',np.stack((a,a),axis=0))\n",
    "print('Stack :\\n',np.stack((a,a),axis=1))"
   ]
  },
  {
   "cell_type": "code",
   "execution_count": 9,
   "metadata": {},
   "outputs": [
    {
     "name": "stdout",
     "output_type": "stream",
     "text": [
      "Split :\n",
      " [array([0, 1]), array([2, 3]), array([4, 5])]\n",
      "Flip :\n",
      " [5 4 3 2 1 0]\n",
      "Roll :\n",
      " [4 5 0 1 2 3]\n"
     ]
    }
   ],
   "source": [
    "print(\"Split :\\n\",np.split(a,3))\n",
    "print(\"Flip :\\n\",np.flip(a))\n",
    "print(\"Roll :\\n\",np.roll(a,shift=2))"
   ]
  },
  {
   "cell_type": "markdown",
   "metadata": {},
   "source": [
    "## Mathematical Functions\n",
    "consider a=np.arange(6)"
   ]
  },
  {
   "cell_type": "code",
   "execution_count": 10,
   "metadata": {},
   "outputs": [
    {
     "name": "stdout",
     "output_type": "stream",
     "text": [
      "Sum \t\t: 15\n",
      "Squareroot \t: [0.         1.         1.41421356 1.73205081 2.         2.23606798]\n",
      "Sin \t\t: [ 0.          0.84147098  0.90929743  0.14112001 -0.7568025  -0.95892427]\n",
      "Absolute \t: [0 1 2 3 4 5]\n",
      "Exponent \t: [  1.           2.71828183   7.3890561   20.08553692  54.59815003\n",
      " 148.4131591 ]\n"
     ]
    }
   ],
   "source": [
    "a=np.arange(6)\n",
    "print(\"Sum \\t\\t:\",np.sum(a))\n",
    "print(\"Squareroot \\t:\",np.sqrt(a))\n",
    "print(\"Sin \\t\\t:\",np.sin(a))\n",
    "print(\"Absolute \\t:\",np.abs(-a))\n",
    "print(\"Exponent \\t:\",np.exp(a))"
   ]
  },
  {
   "cell_type": "code",
   "execution_count": 11,
   "metadata": {},
   "outputs": [
    {
     "name": "stdout",
     "output_type": "stream",
     "text": [
      "Natural Log \t: [0.         0.69314718 1.09861229 1.38629436 1.60943791]\n",
      "Sin inverse\t: [0.         0.25268026 0.52359878 0.84806208 1.57079633]\n",
      "Power \t\t: [ 0  1  4  9 16 25]\n"
     ]
    }
   ],
   "source": [
    "print(\"Natural Log \\t:\",np.log(a[1:]))\n",
    "print(\"Sin inverse\\t:\",np.arcsin(np.linspace(0,1,5)))\n",
    "print(\"Power \\t\\t:\",np.power(a,2))"
   ]
  },
  {
   "cell_type": "markdown",
   "metadata": {},
   "source": [
    "## Statistical Function\n",
    "consider a=np.random.randint(1,100,16).reshape(4,4)"
   ]
  },
  {
   "cell_type": "code",
   "execution_count": 12,
   "metadata": {},
   "outputs": [
    {
     "name": "stdout",
     "output_type": "stream",
     "text": [
      "[[20 11 65 38]\n",
      " [73 89 63  9]\n",
      " [86 47 98 81]\n",
      " [38 26 71 25]]\n"
     ]
    }
   ],
   "source": [
    "a=np.random.randint(1,100,16).reshape(4,4)\n",
    "print(a)"
   ]
  },
  {
   "cell_type": "code",
   "execution_count": 13,
   "metadata": {},
   "outputs": [
    {
     "name": "stdout",
     "output_type": "stream",
     "text": [
      "Median \t\t\t: 55.0\n",
      "Median along 0 axis\t: [55.5 36.5 68.  31.5]\n",
      "Median along 1 axis\t: [29.  68.  83.5 32. ]\n"
     ]
    }
   ],
   "source": [
    "# Median \n",
    "print('Median \\t\\t\\t:',np.median(a))\n",
    "print(\"Median along 0 axis\\t:\",np.median(a,axis=0))\n",
    "print(\"Median along 1 axis\\t:\",np.median(a,axis=1))"
   ]
  },
  {
   "cell_type": "code",
   "execution_count": 14,
   "metadata": {},
   "outputs": [
    {
     "name": "stdout",
     "output_type": "stream",
     "text": [
      "Standard Deviation \t\t: 28.445122604763018\n",
      "Standard Deviation along 0 axis\t: [26.44215385 29.34599632 14.02453208 26.73363986]\n",
      "Standard Deviation along 1 axis\t: [20.62159063 30.04579838 18.93409623 18.61451047]\n"
     ]
    }
   ],
   "source": [
    "# Standard Deviation\n",
    "print(\"Standard Deviation \\t\\t:\",np.std(a))\n",
    "print(\"Standard Deviation along 0 axis\\t:\",np.std(a,axis=0))\n",
    "print(\"Standard Deviation along 1 axis\\t:\",np.std(a,axis=1))"
   ]
  },
  {
   "cell_type": "code",
   "execution_count": 15,
   "metadata": {},
   "outputs": [
    {
     "name": "stdout",
     "output_type": "stream",
     "text": [
      "Histogram \t\t: (array([2, 3, 0, 2, 1, 0, 3, 1, 3, 1], dtype=int64), array([ 9. , 17.9, 26.8, 35.7, 44.6, 53.5, 62.4, 71.3, 80.2, 89.1, 98. ]))\n"
     ]
    }
   ],
   "source": [
    "# Histogram\n",
    "print(\"Histogram \\t\\t:\",np.histogram(a))"
   ]
  },
  {
   "cell_type": "code",
   "execution_count": 16,
   "metadata": {},
   "outputs": [
    {
     "name": "stdout",
     "output_type": "stream",
     "text": [
      "Mean \t: 52.5\n",
      "Mean along axis 0 [54.25 43.25 74.25 38.25]\n",
      "Mean along axis 1 [33.5 58.5 78.  40. ]\n"
     ]
    }
   ],
   "source": [
    "# Mean \n",
    "print(\"Mean \\t:\",np.mean(a))\n",
    "print(\"Mean along axis 0\",np.mean(a,axis=0))\n",
    "print(\"Mean along axis 1\",np.mean(a,axis=1))"
   ]
  },
  {
   "cell_type": "code",
   "execution_count": 17,
   "metadata": {},
   "outputs": [
    {
     "name": "stdout",
     "output_type": "stream",
     "text": [
      "Percentile 98.0\n",
      "Percentile [86. 89. 98. 81.]\n",
      "Percentile [65. 89. 98. 71.]\n"
     ]
    }
   ],
   "source": [
    "# Percentile \n",
    "print(\"Percentile\",np.percentile(a,100))\n",
    "print(\"Percentile\",np.percentile(a,100,axis=0))\n",
    "print(\"Percentile\",np.percentile(a,100,axis=1))"
   ]
  },
  {
   "cell_type": "code",
   "execution_count": 18,
   "metadata": {},
   "outputs": [
    {
     "name": "stdout",
     "output_type": "stream",
     "text": [
      "Mean \t\t\t: 52.5\n",
      "Mean along axis 0 \t: [54.25 43.25 74.25 38.25]\n",
      "Mean along axis 1 \t: [33.5 58.5 78.  40. ]\n"
     ]
    }
   ],
   "source": [
    "# Mean\n",
    "print(\"Mean \\t\\t\\t:\",np.mean(a))\n",
    "print(\"Mean along axis 0 \\t:\",np.mean(a,axis=0))\n",
    "print(\"Mean along axis 1 \\t:\",np.mean(a,axis=1))"
   ]
  },
  {
   "cell_type": "code",
   "execution_count": 19,
   "metadata": {},
   "outputs": [
    {
     "name": "stdout",
     "output_type": "stream",
     "text": [
      "Variance \t\t: 809.125\n",
      "Variance along 0 axis\t: [699.1875 861.1875 196.6875 714.6875]\n",
      "Variance along 1 axis\t: [425.25 902.75 358.5  346.5 ]\n"
     ]
    }
   ],
   "source": [
    "# Variance \n",
    "print(\"Variance \\t\\t:\",np.var(a))\n",
    "print(\"Variance along 0 axis\\t:\",np.var(a,axis=0))\n",
    "print(\"Variance along 1 axis\\t:\",np.var(a,axis=1))"
   ]
  },
  {
   "cell_type": "code",
   "execution_count": 20,
   "metadata": {},
   "outputs": [
    {
     "name": "stdout",
     "output_type": "stream",
     "text": [
      "Corrcoef [[ 1.         -0.38856205  0.7894713   0.81474844]\n",
      " [-0.38856205  1.         -0.39023359  0.19042074]\n",
      " [ 0.7894713  -0.39023359  1.          0.70435736]\n",
      " [ 0.81474844  0.19042074  0.70435736  1.        ]]\n"
     ]
    }
   ],
   "source": [
    "# Corrcoef\n",
    "print(\"Corrcoef\",np.corrcoef(a))"
   ]
  },
  {
   "cell_type": "markdown",
   "metadata": {},
   "source": [
    "## Linear Algebra\n",
    "Consider A = np.array([[1, 2], [3, 4]])\n",
    "B = np.array([[5, 6], [7, 8]])"
   ]
  },
  {
   "cell_type": "code",
   "execution_count": 21,
   "metadata": {},
   "outputs": [],
   "source": [
    "A = np.array([[1, 2], [3, 4]])\n",
    "B = np.array([[5, 6], [7, 8]])"
   ]
  },
  {
   "cell_type": "code",
   "execution_count": 22,
   "metadata": {},
   "outputs": [
    {
     "data": {
      "text/plain": [
       "(array([[1, 2],\n",
       "        [3, 4]]),\n",
       " array([[5, 6],\n",
       "        [7, 8]]))"
      ]
     },
     "execution_count": 22,
     "metadata": {},
     "output_type": "execute_result"
    }
   ],
   "source": [
    "A,B"
   ]
  },
  {
   "cell_type": "code",
   "execution_count": 23,
   "metadata": {},
   "outputs": [
    {
     "name": "stdout",
     "output_type": "stream",
     "text": [
      "Dot product :\n",
      " [[19 22]\n",
      " [43 50]]\n"
     ]
    }
   ],
   "source": [
    "# Dot product\n",
    "print(\"Dot product :\\n\",np.dot(A,B))"
   ]
  },
  {
   "cell_type": "code",
   "execution_count": 24,
   "metadata": {},
   "outputs": [],
   "source": [
    "A = np.array([[1, 2], [3, 4]])\n",
    "B = np.array([[5, 6], [7, 8]])"
   ]
  },
  {
   "cell_type": "code",
   "execution_count": 25,
   "metadata": {},
   "outputs": [
    {
     "name": "stdout",
     "output_type": "stream",
     "text": [
      "Inverse of matrix A:\n",
      "[[-2.   1. ]\n",
      " [ 1.5 -0.5]]\n"
     ]
    }
   ],
   "source": [
    "# Compute the inverse of matrix A\n",
    "A_inv = np.linalg.inv(A)\n",
    "print(\"Inverse of matrix A:\")\n",
    "print(A_inv)"
   ]
  },
  {
   "cell_type": "code",
   "execution_count": 26,
   "metadata": {},
   "outputs": [
    {
     "name": "stdout",
     "output_type": "stream",
     "text": [
      "\n",
      "Determinant of matrix A: -2.0000000000000004\n"
     ]
    }
   ],
   "source": [
    "# Compute the determinant of matrix A\n",
    "det_A = np.linalg.det(A)\n",
    "print(\"\\nDeterminant of matrix A:\", det_A)"
   ]
  },
  {
   "cell_type": "code",
   "execution_count": 27,
   "metadata": {},
   "outputs": [
    {
     "name": "stdout",
     "output_type": "stream",
     "text": [
      "\n",
      "Solution to Ax = B:\n",
      "[-4.   4.5]\n"
     ]
    }
   ],
   "source": [
    "# Solve a system of linear equations Ax = B\n",
    "B_vector = np.array([5, 6])\n",
    "x = np.linalg.solve(A, B_vector)\n",
    "print(\"\\nSolution to Ax = B:\")\n",
    "print(x)"
   ]
  },
  {
   "cell_type": "code",
   "execution_count": 28,
   "metadata": {},
   "outputs": [
    {
     "name": "stdout",
     "output_type": "stream",
     "text": [
      "\n",
      "Eigenvalues of matrix A:\n",
      "[-0.37228132  5.37228132]\n",
      "\n",
      "Eigenvectors of matrix A:\n",
      "[[-0.82456484 -0.41597356]\n",
      " [ 0.56576746 -0.90937671]]\n"
     ]
    }
   ],
   "source": [
    "# Compute the eigenvalues and eigenvectors of matrix A\n",
    "eigenvalues, eigenvectors = np.linalg.eig(A)\n",
    "print(\"\\nEigenvalues of matrix A:\")\n",
    "print(eigenvalues)\n",
    "print(\"\\nEigenvectors of matrix A:\")\n",
    "print(eigenvectors)"
   ]
  },
  {
   "cell_type": "code",
   "execution_count": 29,
   "metadata": {},
   "outputs": [
    {
     "name": "stdout",
     "output_type": "stream",
     "text": [
      "\n",
      "Singular Value Decomposition (SVD) of matrix B:\n",
      "U:\n",
      "[[-0.59206014 -0.80589378]\n",
      " [-0.80589378  0.59206014]]\n",
      "S (singular values):\n",
      "[13.19003444  0.15162963]\n",
      "V (conjugate transpose):\n",
      "[[-0.65212545 -0.75811107]\n",
      " [ 0.75811107 -0.65212545]]\n"
     ]
    }
   ],
   "source": [
    "# Perform Singular Value Decomposition (SVD) on matrix B\n",
    "U, S, V = np.linalg.svd(B)\n",
    "print(\"\\nSingular Value Decomposition (SVD) of matrix B:\")\n",
    "print(\"U:\")\n",
    "print(U)\n",
    "print(\"S (singular values):\")\n",
    "print(S)\n",
    "print(\"V (conjugate transpose):\")\n",
    "print(V)\n"
   ]
  },
  {
   "cell_type": "code",
   "execution_count": 30,
   "metadata": {},
   "outputs": [
    {
     "name": "stdout",
     "output_type": "stream",
     "text": [
      "\n",
      "QR Decomposition of matrix B:\n",
      "Q:\n",
      "[[-0.58123819 -0.81373347]\n",
      " [-0.81373347  0.58123819]]\n",
      "R:\n",
      "[[-8.60232527 -9.99729693]\n",
      " [ 0.         -0.23249528]]\n"
     ]
    }
   ],
   "source": [
    "# Compute the QR decomposition of matrix B\n",
    "Q, R = np.linalg.qr(B)\n",
    "print(\"\\nQR Decomposition of matrix B:\")\n",
    "print(\"Q:\")\n",
    "print(Q)\n",
    "print(\"R:\")\n",
    "print(R)\n"
   ]
  },
  {
   "cell_type": "code",
   "execution_count": 31,
   "metadata": {},
   "outputs": [
    {
     "name": "stdout",
     "output_type": "stream",
     "text": [
      "Norm of vector v: 5.477225575051661\n",
      "\n",
      "Frobenius norm of Matrix A: 5.477225575051661\n"
     ]
    }
   ],
   "source": [
    "# Norm of a vector\n",
    "norm_v = np.linalg.norm(A)\n",
    "print(\"Norm of vector v:\", norm_v)\n",
    "print()\n",
    "\n",
    "# Frobenius norm of a matrix\n",
    "norm_A = np.linalg.norm(A, 'fro')\n",
    "print(\"Frobenius norm of Matrix A:\", norm_A)"
   ]
  },
  {
   "cell_type": "code",
   "execution_count": 32,
   "metadata": {},
   "outputs": [
    {
     "name": "stdout",
     "output_type": "stream",
     "text": [
      "[[19 22]\n",
      " [43 50]]\n"
     ]
    }
   ],
   "source": [
    "# Matrix Multiplication\n",
    "print(np.matmul(A,B))"
   ]
  },
  {
   "cell_type": "code",
   "execution_count": 33,
   "metadata": {},
   "outputs": [
    {
     "name": "stdout",
     "output_type": "stream",
     "text": [
      "[-4 -4]\n"
     ]
    }
   ],
   "source": [
    "# Cross Multiplication\n",
    "print(np.cross(A,B))"
   ]
  },
  {
   "cell_type": "code",
   "execution_count": 34,
   "metadata": {},
   "outputs": [
    {
     "name": "stdout",
     "output_type": "stream",
     "text": [
      "[[17 23]\n",
      " [39 53]]\n"
     ]
    }
   ],
   "source": [
    "# Inner Product\n",
    "print(np.inner(A,B))"
   ]
  },
  {
   "cell_type": "markdown",
   "metadata": {},
   "source": [
    "## Random Sampling"
   ]
  },
  {
   "cell_type": "code",
   "execution_count": 35,
   "metadata": {},
   "outputs": [],
   "source": [
    "a=np.arange(9)"
   ]
  },
  {
   "cell_type": "code",
   "execution_count": 36,
   "metadata": {},
   "outputs": [
    {
     "name": "stdout",
     "output_type": "stream",
     "text": [
      "Rand [0,1]\t: [0.94489136 0.02063174 0.76720175 0.80372186]\n",
      "Randn 'Float'\t: [-1.41650913 -0.64956613 -0.77400505 -0.32202509]\n",
      "Randint 'Integer b/w ranges'\t: [3 1 1 2]\n",
      "Random Choice \t: 8\n",
      "Random Shuffle None [8 7 4 0 1 2 3 6 5]\n"
     ]
    }
   ],
   "source": [
    "print(\"Rand [0,1]\\t:\",np.random.rand(4))    \n",
    "print(\"Randn \\'Float\\'\\t:\",np.random.randn(4))\n",
    "print(\"Randint 'Integer b/w ranges'\\t:\",np.random.randint(0,4,4))\n",
    "print(\"Random Choice \\t:\",np.random.choice(a))\n",
    "print('Random Shuffle',np.random.shuffle(a),a)"
   ]
  },
  {
   "cell_type": "code",
   "execution_count": 37,
   "metadata": {},
   "outputs": [
    {
     "name": "stdout",
     "output_type": "stream",
     "text": [
      "Seed \t: None\n",
      "Permutation : [8 2 6 7 1 0 4 3 5]\n",
      "Normal Gaussian Distribution \t: 1.4502538233401552\n",
      "Binomial Distribution : [5 6 7 7 4 5 5 4 5 7]\n",
      "Exponential : 2.4440928352447364\n",
      "Poisson : [11  6  2  0  2  1  1  4  8]\n"
     ]
    }
   ],
   "source": [
    "print(\"Seed \\t:\",np.random.seed(1))\n",
    "print(\"Permutation :\",np.random.permutation(9))\n",
    "print(\"Normal Gaussian Distribution \\t:\",np.random.normal(2))\n",
    "print(\"Binomial Distribution :\",np.random.binomial(10,0.5,10))\n",
    "print(\"Exponential :\",np.random.exponential(4))\n",
    "print(\"Poisson :\",np.random.poisson(a))"
   ]
  },
  {
   "cell_type": "markdown",
   "metadata": {},
   "source": [
    "## Bonus "
   ]
  },
  {
   "cell_type": "code",
   "execution_count": 38,
   "metadata": {},
   "outputs": [
    {
     "data": {
      "text/plain": [
       "array([[0, 1, 2],\n",
       "       [3, 4, 5],\n",
       "       [6, 7, 8]])"
      ]
     },
     "execution_count": 38,
     "metadata": {},
     "output_type": "execute_result"
    }
   ],
   "source": [
    "a=np.arange(9).reshape(3,3)\n",
    "a"
   ]
  },
  {
   "cell_type": "code",
   "execution_count": 39,
   "metadata": {},
   "outputs": [
    {
     "name": "stdout",
     "output_type": "stream",
     "text": [
      "Broadcast_to :\n",
      " [[1 2 3]\n",
      " [1 2 3]\n",
      " [1 2 3]]\n",
      "Delete \t\t: [0 2 4 6 7 8]\n",
      "Insert \t\t: [0 9 1 2 3 4 5 6 7 8]\n",
      "Append \t\t: [0 1 2 3 4 5 6 7 8 0 1 2 3 4 5 6 7 8]\n",
      "Gradient \t: [2. 2.]\n"
     ]
    }
   ],
   "source": [
    "print(\"Broadcast_to :\\n\",np.broadcast_to([1,2,3],shape=[3,3]))  # Broadcasts an array to new shape\n",
    "print(\"Delete \\t\\t:\",np.delete(a,[1,3,5]))                      # Deletes elements along an axis of an array    \n",
    "print(\"Insert \\t\\t:\",np.insert(a,1,9))                          # Inserts value to the specified index\n",
    "print(\"Append \\t\\t:\",np.append(a,a))                            # Appends values to the end\n",
    "print(\"Gradient \\t:\",np.gradient([1,3]))                        # Computes numerical gradient of the array"
   ]
  },
  {
   "cell_type": "code",
   "execution_count": 40,
   "metadata": {},
   "outputs": [
    {
     "name": "stdout",
     "output_type": "stream",
     "text": [
      "[ True False  True]\n"
     ]
    }
   ],
   "source": [
    "# Define two arrays\n",
    "a = np.array([1.0, 2.0, 3.0])\n",
    "b = np.array([1.0, 2.01, 3.00001])\n",
    "\n",
    "# Check if elements are close within a default tolerance\n",
    "print(np.isclose(a,b))"
   ]
  },
  {
   "cell_type": "code",
   "execution_count": 41,
   "metadata": {},
   "outputs": [
    {
     "name": "stdout",
     "output_type": "stream",
     "text": [
      "Identity Matrix :\n",
      " [[1. 0. 0.]\n",
      " [0. 1. 0.]\n",
      " [0. 0. 1.]]\n"
     ]
    }
   ],
   "source": [
    "print(\"Identity Matrix :\\n\",np.eye(3))"
   ]
  },
  {
   "cell_type": "markdown",
   "metadata": {},
   "source": [
    "I hope you found this information helpful! <br>\n",
    "Feel free to save this post for future reference.<br>\n",
    "Let's continue to learn and grow together! <br>\n",
    "<br>\n",
    "\n",
    "[Rajendra Prasad](http://chlorinexxe.github.io/portfolio)\n"
   ]
  }
 ],
 "metadata": {
  "kernelspec": {
   "display_name": "Python 3",
   "language": "python",
   "name": "python3"
  },
  "language_info": {
   "codemirror_mode": {
    "name": "ipython",
    "version": 3
   },
   "file_extension": ".py",
   "mimetype": "text/x-python",
   "name": "python",
   "nbconvert_exporter": "python",
   "pygments_lexer": "ipython3",
   "version": "3.12.4"
  }
 },
 "nbformat": 4,
 "nbformat_minor": 2
}
