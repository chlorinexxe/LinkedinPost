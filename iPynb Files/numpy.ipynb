{
 "cells": [
  {
   "cell_type": "markdown",
   "metadata": {},
   "source": [
    "# Numpy"
   ]
  },
  {
   "cell_type": "code",
   "execution_count": 44,
   "metadata": {},
   "outputs": [],
   "source": [
    "import numpy as np"
   ]
  },
  {
   "cell_type": "markdown",
   "metadata": {},
   "source": [
    "## Array Creation"
   ]
  },
  {
   "cell_type": "code",
   "execution_count": 45,
   "metadata": {},
   "outputs": [
    {
     "name": "stdout",
     "output_type": "stream",
     "text": [
      "<class 'numpy.ndarray'>\n"
     ]
    }
   ],
   "source": [
    "a=np.array([1,2,3])\n",
    "print(type(a))                  # Shows type"
   ]
  },
  {
   "cell_type": "code",
   "execution_count": 46,
   "metadata": {},
   "outputs": [
    {
     "name": "stdout",
     "output_type": "stream",
     "text": [
      "Array :\n",
      " [1 2 3]\n",
      "Zero Array :\n",
      " [[0. 0.]\n",
      " [0. 0.]]\n",
      "Ones Array :\n",
      " [[1. 1.]\n",
      " [1. 1.]]\n"
     ]
    }
   ],
   "source": [
    "print(\"Array :\\n\",np.array([1,2,3]))                    # Create a array from an object\n",
    "print(\"Zero Array :\\n\",np.zeros((2,2)))                 # Create a 2X2 matrix with zeros\n",
    "print(\"Ones Array :\\n\",np.ones((2,2)))                  # Create a 2X2 matri with ones"
   ]
  },
  {
   "cell_type": "code",
   "execution_count": 47,
   "metadata": {},
   "outputs": [
    {
     "name": "stdout",
     "output_type": "stream",
     "text": [
      "Empty Array :\n",
      " [[         0 1072693248]\n",
      " [         0 1072693248]]\n",
      "Array :\n",
      " [[2 2]\n",
      " [2 2]]\n",
      "Array :\n",
      " [0 2 4 6]\n"
     ]
    }
   ],
   "source": [
    "print(\"Empty Array :\\n\",np.empty([2,2],dtype=int))      # Create a array of shape with out initializing entries\n",
    "print(\"Array :\\n\",np.full((2,2),fill_value=2))          # Returns a array of given shape with fill_value\n",
    "print(\"Array :\\n\",np.arange(0,7,2))                     # Returns a array of evenly spaced with given interval"
   ]
  },
  {
   "cell_type": "code",
   "execution_count": 48,
   "metadata": {},
   "outputs": [
    {
     "name": "stdout",
     "output_type": "stream",
     "text": [
      "Linspace \t: [1.   1.25 1.5  1.75 2.  ]\n",
      "Logspace \t: [ 100.          177.827941    316.22776602  562.34132519 1000.        ]\n"
     ]
    }
   ],
   "source": [
    "print('Linspace \\t:',np.linspace(1,2,5))    # Returns a evenly spaced numbers over a specified interval\n",
    "print('Logspace \\t:',np.logspace(2,3,5))    # Returns numbers spaced evenly on a log scale"
   ]
  },
  {
   "cell_type": "markdown",
   "metadata": {},
   "source": [
    "## Array Manipulation\n",
    "Consider a=np.arange(0,10)"
   ]
  },
  {
   "cell_type": "code",
   "execution_count": 49,
   "metadata": {},
   "outputs": [],
   "source": [
    "a=np.arange(6)"
   ]
  },
  {
   "cell_type": "code",
   "execution_count": 50,
   "metadata": {},
   "outputs": [
    {
     "name": "stdout",
     "output_type": "stream",
     "text": [
      "Reshape :\n",
      " [[0 1]\n",
      " [2 3]\n",
      " [4 5]]\n",
      "Transpose : \n",
      " [[0 2 4]\n",
      " [1 3 5]]\n"
     ]
    }
   ],
   "source": [
    "print('Reshape :\\n',np.arange(6).reshape((3, 2)))\n",
    "print('Transpose : \\n',np.arange(6).reshape((3,2)).transpose())"
   ]
  },
  {
   "cell_type": "code",
   "execution_count": 51,
   "metadata": {},
   "outputs": [
    {
     "name": "stdout",
     "output_type": "stream",
     "text": [
      "Concatenate :\n",
      " [0 1 2 3 4 5 0 1 2 3 4 5]\n",
      "Stack :\n",
      " [[0 1 2 3 4 5]\n",
      " [0 1 2 3 4 5]]\n",
      "Stack :\n",
      " [[0 0]\n",
      " [1 1]\n",
      " [2 2]\n",
      " [3 3]\n",
      " [4 4]\n",
      " [5 5]]\n"
     ]
    }
   ],
   "source": [
    "print(\"Concatenate :\\n\",np.concatenate((a,a),axis=0))\n",
    "print('Stack :\\n',np.stack((a,a),axis=0))\n",
    "print('Stack :\\n',np.stack((a,a),axis=1))"
   ]
  },
  {
   "cell_type": "code",
   "execution_count": 52,
   "metadata": {},
   "outputs": [
    {
     "name": "stdout",
     "output_type": "stream",
     "text": [
      "Split :\n",
      " [array([0, 1]), array([2, 3]), array([4, 5])]\n",
      "Flip :\n",
      " [5 4 3 2 1 0]\n",
      "Roll :\n",
      " [4 5 0 1 2 3]\n"
     ]
    }
   ],
   "source": [
    "print(\"Split :\\n\",np.split(a,3))\n",
    "print(\"Flip :\\n\",np.flip(a))\n",
    "print(\"Roll :\\n\",np.roll(a,shift=2))"
   ]
  },
  {
   "cell_type": "markdown",
   "metadata": {},
   "source": [
    "## Mathematical Functions\n",
    "consider a=np.arange(6)"
   ]
  },
  {
   "cell_type": "code",
   "execution_count": 53,
   "metadata": {},
   "outputs": [
    {
     "name": "stdout",
     "output_type": "stream",
     "text": [
      "Sum \t\t: 15\n",
      "Squareroot \t: [0.         1.         1.41421356 1.73205081 2.         2.23606798]\n",
      "Sin \t\t: [ 0.          0.84147098  0.90929743  0.14112001 -0.7568025  -0.95892427]\n",
      "Absolute \t: [0 1 2 3 4 5]\n",
      "Exponent \t: [  1.           2.71828183   7.3890561   20.08553692  54.59815003\n",
      " 148.4131591 ]\n"
     ]
    }
   ],
   "source": [
    "a=np.arange(6)\n",
    "print(\"Sum \\t\\t:\",np.sum(a))\n",
    "print(\"Squareroot \\t:\",np.sqrt(a))\n",
    "print(\"Sin \\t\\t:\",np.sin(a))\n",
    "print(\"Absolute \\t:\",np.abs(-a))\n",
    "print(\"Exponent \\t:\",np.exp(a))"
   ]
  },
  {
   "cell_type": "code",
   "execution_count": 54,
   "metadata": {},
   "outputs": [
    {
     "name": "stdout",
     "output_type": "stream",
     "text": [
      "Natural Log \t: [0.         0.69314718 1.09861229 1.38629436 1.60943791]\n",
      "Sin inverse\t: [0.         0.25268026 0.52359878 0.84806208 1.57079633]\n",
      "Power \t\t: [ 0  1  4  9 16 25]\n"
     ]
    }
   ],
   "source": [
    "print(\"Natural Log \\t:\",np.log(a[1:]))\n",
    "print(\"Sin inverse\\t:\",np.arcsin(np.linspace(0,1,5)))\n",
    "print(\"Power \\t\\t:\",np.power(a,2))"
   ]
  },
  {
   "cell_type": "markdown",
   "metadata": {},
   "source": [
    "## Statistical Function\n",
    "consider a=np.random.randint(1,100,16).reshape(4,4)"
   ]
  },
  {
   "cell_type": "code",
   "execution_count": 55,
   "metadata": {},
   "outputs": [
    {
     "name": "stdout",
     "output_type": "stream",
     "text": [
      "[[24 56 66 78]\n",
      " [ 4  1 78  7]\n",
      " [53 86 71  3]\n",
      " [77 92 22 76]]\n"
     ]
    }
   ],
   "source": [
    "a=np.random.randint(1,100,16).reshape(4,4)\n",
    "print(a)"
   ]
  },
  {
   "cell_type": "code",
   "execution_count": 56,
   "metadata": {},
   "outputs": [
    {
     "name": "stdout",
     "output_type": "stream",
     "text": [
      "Median \t\t\t: 61.0\n",
      "Median along 0 axis\t: [38.5 71.  68.5 41.5]\n",
      "Median along 1 axis\t: [61.   5.5 62.  76.5]\n"
     ]
    }
   ],
   "source": [
    "# Median \n",
    "print('Median \\t\\t\\t:',np.median(a))\n",
    "print(\"Median along 0 axis\\t:\",np.median(a,axis=0))\n",
    "print(\"Median along 1 axis\\t:\",np.median(a,axis=1))"
   ]
  },
  {
   "cell_type": "code",
   "execution_count": 57,
   "metadata": {},
   "outputs": [
    {
     "name": "stdout",
     "output_type": "stream",
     "text": [
      "Standard Deviation \t\t: 32.4111766987871\n",
      "Standard Deviation along 0 axis\t: [27.78938646 36.02342988 21.92458666 36.03470549]\n",
      "Standard Deviation along 1 axis\t: [20.04993766 32.11308145 31.27598919 26.60239651]\n"
     ]
    }
   ],
   "source": [
    "# Standard Deviation\n",
    "print(\"Standard Deviation \\t\\t:\",np.std(a))\n",
    "print(\"Standard Deviation along 0 axis\\t:\",np.std(a,axis=0))\n",
    "print(\"Standard Deviation along 1 axis\\t:\",np.std(a,axis=1))"
   ]
  },
  {
   "cell_type": "code",
   "execution_count": 58,
   "metadata": {},
   "outputs": [
    {
     "name": "stdout",
     "output_type": "stream",
     "text": [
      "Histogram \t\t: (array([4, 0, 2, 0, 0, 1, 1, 2, 4, 2], dtype=int64), array([ 1. , 10.1, 19.2, 28.3, 37.4, 46.5, 55.6, 64.7, 73.8, 82.9, 92. ]))\n"
     ]
    }
   ],
   "source": [
    "# Histogram\n",
    "print(\"Histogram \\t\\t:\",np.histogram(a))"
   ]
  },
  {
   "cell_type": "code",
   "execution_count": 59,
   "metadata": {},
   "outputs": [
    {
     "name": "stdout",
     "output_type": "stream",
     "text": [
      "Mean \t: 49.625\n",
      "Mean along axis 0 [39.5  58.75 59.25 41.  ]\n",
      "Mean along axis 1 [56.   22.5  53.25 66.75]\n"
     ]
    }
   ],
   "source": [
    "# Mean \n",
    "print(\"Mean \\t:\",np.mean(a))\n",
    "print(\"Mean along axis 0\",np.mean(a,axis=0))\n",
    "print(\"Mean along axis 1\",np.mean(a,axis=1))"
   ]
  },
  {
   "cell_type": "code",
   "execution_count": 60,
   "metadata": {},
   "outputs": [
    {
     "name": "stdout",
     "output_type": "stream",
     "text": [
      "Percentile 92.0\n",
      "Percentile [77. 92. 78. 78.]\n",
      "Percentile [78. 78. 86. 92.]\n"
     ]
    }
   ],
   "source": [
    "# Percentile \n",
    "print(\"Percentile\",np.percentile(a,100))\n",
    "print(\"Percentile\",np.percentile(a,100,axis=0))\n",
    "print(\"Percentile\",np.percentile(a,100,axis=1))"
   ]
  },
  {
   "cell_type": "code",
   "execution_count": 61,
   "metadata": {},
   "outputs": [
    {
     "name": "stdout",
     "output_type": "stream",
     "text": [
      "Mean \t\t\t: 49.625\n",
      "Mean along axis 0 \t: [39.5  58.75 59.25 41.  ]\n",
      "Mean along axis 1 \t: [56.   22.5  53.25 66.75]\n"
     ]
    }
   ],
   "source": [
    "# Mean\n",
    "print(\"Mean \\t\\t\\t:\",np.mean(a))\n",
    "print(\"Mean along axis 0 \\t:\",np.mean(a,axis=0))\n",
    "print(\"Mean along axis 1 \\t:\",np.mean(a,axis=1))"
   ]
  },
  {
   "cell_type": "code",
   "execution_count": 62,
   "metadata": {},
   "outputs": [
    {
     "name": "stdout",
     "output_type": "stream",
     "text": [
      "Variance \t\t: 1050.484375\n",
      "Variance along 0 axis\t: [ 772.25   1297.6875  480.6875 1298.5   ]\n",
      "Variance along 1 axis\t: [ 402.     1031.25    978.1875  707.6875]\n"
     ]
    }
   ],
   "source": [
    "# Variance \n",
    "print(\"Variance \\t\\t:\",np.var(a))\n",
    "print(\"Variance along 0 axis\\t:\",np.var(a,axis=0))\n",
    "print(\"Variance along 1 axis\\t:\",np.var(a,axis=1))"
   ]
  },
  {
   "cell_type": "code",
   "execution_count": 63,
   "metadata": {},
   "outputs": [
    {
     "name": "stdout",
     "output_type": "stream",
     "text": [
      "Corrcoef [[ 1.          0.31295367 -0.3667784  -0.26810335]\n",
      " [ 0.31295367  1.          0.26496752 -0.98313218]\n",
      " [-0.3667784   0.26496752  1.         -0.13063146]\n",
      " [-0.26810335 -0.98313218 -0.13063146  1.        ]]\n"
     ]
    }
   ],
   "source": [
    "# Corrcoef\n",
    "print(\"Corrcoef\",np.corrcoef(a))"
   ]
  },
  {
   "cell_type": "markdown",
   "metadata": {},
   "source": [
    "## Linear Algebra\n",
    "Consider A = np.array([[1, 2], [3, 4]])\n",
    "B = np.array([[5, 6], [7, 8]])"
   ]
  },
  {
   "cell_type": "code",
   "execution_count": 64,
   "metadata": {},
   "outputs": [],
   "source": [
    "A = np.array([[1, 2], [3, 4]])\n",
    "B = np.array([[5, 6], [7, 8]])"
   ]
  },
  {
   "cell_type": "code",
   "execution_count": 65,
   "metadata": {},
   "outputs": [
    {
     "data": {
      "text/plain": [
       "(array([[1, 2],\n",
       "        [3, 4]]),\n",
       " array([[5, 6],\n",
       "        [7, 8]]))"
      ]
     },
     "execution_count": 65,
     "metadata": {},
     "output_type": "execute_result"
    }
   ],
   "source": [
    "A,B"
   ]
  },
  {
   "cell_type": "code",
   "execution_count": 66,
   "metadata": {},
   "outputs": [
    {
     "name": "stdout",
     "output_type": "stream",
     "text": [
      "Dot product :\n",
      " [[19 22]\n",
      " [43 50]]\n"
     ]
    }
   ],
   "source": [
    "# Dot product\n",
    "print(\"Dot product :\\n\",np.dot(A,B))"
   ]
  },
  {
   "cell_type": "code",
   "execution_count": 67,
   "metadata": {},
   "outputs": [],
   "source": [
    "A = np.array([[1, 2], [3, 4]])\n",
    "B = np.array([[5, 6], [7, 8]])"
   ]
  },
  {
   "cell_type": "code",
   "execution_count": 68,
   "metadata": {},
   "outputs": [
    {
     "name": "stdout",
     "output_type": "stream",
     "text": [
      "Inverse of matrix A:\n",
      "[[-2.   1. ]\n",
      " [ 1.5 -0.5]]\n"
     ]
    }
   ],
   "source": [
    "# Compute the inverse of matrix A\n",
    "A_inv = np.linalg.inv(A)\n",
    "print(\"Inverse of matrix A:\")\n",
    "print(A_inv)"
   ]
  },
  {
   "cell_type": "code",
   "execution_count": 69,
   "metadata": {},
   "outputs": [
    {
     "name": "stdout",
     "output_type": "stream",
     "text": [
      "\n",
      "Determinant of matrix A: -2.0000000000000004\n"
     ]
    }
   ],
   "source": [
    "# Compute the determinant of matrix A\n",
    "det_A = np.linalg.det(A)\n",
    "print(\"\\nDeterminant of matrix A:\", det_A)"
   ]
  },
  {
   "cell_type": "code",
   "execution_count": 70,
   "metadata": {},
   "outputs": [
    {
     "name": "stdout",
     "output_type": "stream",
     "text": [
      "\n",
      "Solution to Ax = B:\n",
      "[-4.   4.5]\n"
     ]
    }
   ],
   "source": [
    "# Solve a system of linear equations Ax = B\n",
    "B_vector = np.array([5, 6])\n",
    "x = np.linalg.solve(A, B_vector)\n",
    "print(\"\\nSolution to Ax = B:\")\n",
    "print(x)"
   ]
  },
  {
   "cell_type": "code",
   "execution_count": 71,
   "metadata": {},
   "outputs": [
    {
     "name": "stdout",
     "output_type": "stream",
     "text": [
      "\n",
      "Eigenvalues of matrix A:\n",
      "[-0.37228132  5.37228132]\n",
      "\n",
      "Eigenvectors of matrix A:\n",
      "[[-0.82456484 -0.41597356]\n",
      " [ 0.56576746 -0.90937671]]\n"
     ]
    }
   ],
   "source": [
    "# Compute the eigenvalues and eigenvectors of matrix A\n",
    "eigenvalues, eigenvectors = np.linalg.eig(A)\n",
    "print(\"\\nEigenvalues of matrix A:\")\n",
    "print(eigenvalues)\n",
    "print(\"\\nEigenvectors of matrix A:\")\n",
    "print(eigenvectors)"
   ]
  },
  {
   "cell_type": "code",
   "execution_count": 72,
   "metadata": {},
   "outputs": [
    {
     "name": "stdout",
     "output_type": "stream",
     "text": [
      "\n",
      "Singular Value Decomposition (SVD) of matrix B:\n",
      "U:\n",
      "[[-0.59206014 -0.80589378]\n",
      " [-0.80589378  0.59206014]]\n",
      "S (singular values):\n",
      "[13.19003444  0.15162963]\n",
      "V (conjugate transpose):\n",
      "[[-0.65212545 -0.75811107]\n",
      " [ 0.75811107 -0.65212545]]\n"
     ]
    }
   ],
   "source": [
    "# Perform Singular Value Decomposition (SVD) on matrix B\n",
    "U, S, V = np.linalg.svd(B)\n",
    "print(\"\\nSingular Value Decomposition (SVD) of matrix B:\")\n",
    "print(\"U:\")\n",
    "print(U)\n",
    "print(\"S (singular values):\")\n",
    "print(S)\n",
    "print(\"V (conjugate transpose):\")\n",
    "print(V)\n"
   ]
  },
  {
   "cell_type": "code",
   "execution_count": 73,
   "metadata": {},
   "outputs": [
    {
     "name": "stdout",
     "output_type": "stream",
     "text": [
      "\n",
      "QR Decomposition of matrix B:\n",
      "Q:\n",
      "[[-0.58123819 -0.81373347]\n",
      " [-0.81373347  0.58123819]]\n",
      "R:\n",
      "[[-8.60232527 -9.99729693]\n",
      " [ 0.         -0.23249528]]\n"
     ]
    }
   ],
   "source": [
    "# Compute the QR decomposition of matrix B\n",
    "Q, R = np.linalg.qr(B)\n",
    "print(\"\\nQR Decomposition of matrix B:\")\n",
    "print(\"Q:\")\n",
    "print(Q)\n",
    "print(\"R:\")\n",
    "print(R)\n"
   ]
  },
  {
   "cell_type": "code",
   "execution_count": 74,
   "metadata": {},
   "outputs": [
    {
     "name": "stdout",
     "output_type": "stream",
     "text": [
      "Norm of vector v: 5.477225575051661\n",
      "\n",
      "Frobenius norm of Matrix A: 5.477225575051661\n"
     ]
    }
   ],
   "source": [
    "# Norm of a vector\n",
    "norm_v = np.linalg.norm(A)\n",
    "print(\"Norm of vector v:\", norm_v)\n",
    "print()\n",
    "\n",
    "# Frobenius norm of a matrix\n",
    "norm_A = np.linalg.norm(A, 'fro')\n",
    "print(\"Frobenius norm of Matrix A:\", norm_A)"
   ]
  },
  {
   "cell_type": "code",
   "execution_count": 75,
   "metadata": {},
   "outputs": [
    {
     "name": "stdout",
     "output_type": "stream",
     "text": [
      "[[19 22]\n",
      " [43 50]]\n"
     ]
    }
   ],
   "source": [
    "# Matrix Multiplication\n",
    "print(np.matmul(A,B))"
   ]
  },
  {
   "cell_type": "code",
   "execution_count": 76,
   "metadata": {},
   "outputs": [
    {
     "name": "stdout",
     "output_type": "stream",
     "text": [
      "[-4 -4]\n"
     ]
    }
   ],
   "source": [
    "# Cross Multiplication\n",
    "print(np.cross(A,B))"
   ]
  },
  {
   "cell_type": "code",
   "execution_count": 77,
   "metadata": {},
   "outputs": [
    {
     "name": "stdout",
     "output_type": "stream",
     "text": [
      "[[17 23]\n",
      " [39 53]]\n"
     ]
    }
   ],
   "source": [
    "# Inner Product\n",
    "print(np.inner(A,B))"
   ]
  },
  {
   "cell_type": "markdown",
   "metadata": {},
   "source": [
    "## Random Sampling"
   ]
  },
  {
   "cell_type": "code",
   "execution_count": 78,
   "metadata": {},
   "outputs": [],
   "source": [
    "a=np.arange(9)"
   ]
  },
  {
   "cell_type": "code",
   "execution_count": 79,
   "metadata": {},
   "outputs": [
    {
     "name": "stdout",
     "output_type": "stream",
     "text": [
      "Rand [0,1]\t: [0.90340192 0.1374747  0.13927635 0.80739129]\n",
      "Randn 'Float'\t: [-1.40287272 -1.1425182  -0.34934272 -0.20889423]\n",
      "Randint 'Integer b/w ranges'\t: [2 0 1 2]\n",
      "Random Choice \t: 7\n",
      "Random Shuffle None [6 4 3 5 2 0 8 7 1]\n"
     ]
    }
   ],
   "source": [
    "print(\"Rand [0,1]\\t:\",np.random.rand(4))    \n",
    "print(\"Randn \\'Float\\'\\t:\",np.random.randn(4))\n",
    "print(\"Randint 'Integer b/w ranges'\\t:\",np.random.randint(0,4,4))\n",
    "print(\"Random Choice \\t:\",np.random.choice(a))\n",
    "print('Random Shuffle',np.random.shuffle(a),a)"
   ]
  },
  {
   "cell_type": "code",
   "execution_count": 80,
   "metadata": {},
   "outputs": [
    {
     "name": "stdout",
     "output_type": "stream",
     "text": [
      "Seed \t: None\n",
      "Permutation : [8 2 6 7 1 0 4 3 5]\n",
      "Normal Gaussian Distribution \t: 1.4502538233401552\n",
      "Binomial Distribution : [5 6 7 7 4 5 5 4 5 7]\n",
      "Exponential : 2.4440928352447364\n",
      "Poisson : [10  3  2  3  2  0  4  7  1]\n"
     ]
    }
   ],
   "source": [
    "print(\"Seed \\t:\",np.random.seed(1))\n",
    "print(\"Permutation :\",np.random.permutation(9))\n",
    "print(\"Normal Gaussian Distribution \\t:\",np.random.normal(2))\n",
    "print(\"Binomial Distribution :\",np.random.binomial(10,0.5,10))\n",
    "print(\"Exponential :\",np.random.exponential(4))\n",
    "print(\"Poisson :\",np.random.poisson(a))"
   ]
  },
  {
   "cell_type": "markdown",
   "metadata": {},
   "source": [
    "## Bonus "
   ]
  },
  {
   "cell_type": "code",
   "execution_count": 81,
   "metadata": {},
   "outputs": [
    {
     "data": {
      "text/plain": [
       "array([[0, 1, 2],\n",
       "       [3, 4, 5],\n",
       "       [6, 7, 8]])"
      ]
     },
     "execution_count": 81,
     "metadata": {},
     "output_type": "execute_result"
    }
   ],
   "source": [
    "a=np.arange(9).reshape(3,3)\n",
    "a"
   ]
  },
  {
   "cell_type": "code",
   "execution_count": 82,
   "metadata": {},
   "outputs": [
    {
     "name": "stdout",
     "output_type": "stream",
     "text": [
      "Broadcast_to :\n",
      " [[1 2 3]\n",
      " [1 2 3]\n",
      " [1 2 3]]\n",
      "Delete \t\t: [0 2 4 6 7 8]\n",
      "Insert \t\t: [0 9 1 2 3 4 5 6 7 8]\n",
      "Append \t\t: [0 1 2 3 4 5 6 7 8 0 1 2 3 4 5 6 7 8]\n",
      "Gradient \t: [2. 2.]\n"
     ]
    }
   ],
   "source": [
    "print(\"Broadcast_to :\\n\",np.broadcast_to([1,2,3],shape=[3,3]))  # Broadcasts an array to new shape\n",
    "print(\"Delete \\t\\t:\",np.delete(a,[1,3,5]))                      # Deletes elements along an axis of an array    \n",
    "print(\"Insert \\t\\t:\",np.insert(a,1,9))                          # Inserts value to the specified index\n",
    "print(\"Append \\t\\t:\",np.append(a,a))                            # Appends values to the end\n",
    "print(\"Gradient \\t:\",np.gradient([1,3]))                        # Computes numerical gradient of the array"
   ]
  },
  {
   "cell_type": "code",
   "execution_count": 83,
   "metadata": {},
   "outputs": [
    {
     "name": "stdout",
     "output_type": "stream",
     "text": [
      "[ True False  True]\n"
     ]
    }
   ],
   "source": [
    "# Define two arrays\n",
    "a = np.array([1.0, 2.0, 3.0])\n",
    "b = np.array([1.0, 2.01, 3.00001])\n",
    "\n",
    "# Check if elements are close within a default tolerance\n",
    "print(np.isclose(a,b))"
   ]
  },
  {
   "cell_type": "code",
   "execution_count": 84,
   "metadata": {},
   "outputs": [
    {
     "name": "stdout",
     "output_type": "stream",
     "text": [
      "Identity Matrix :\n",
      " [[1. 0. 0.]\n",
      " [0. 1. 0.]\n",
      " [0. 0. 1.]]\n"
     ]
    }
   ],
   "source": [
    "print(\"Identity Matrix :\\n\",np.eye(3))"
   ]
  },
  {
   "cell_type": "markdown",
   "metadata": {},
   "source": [
    "I hope you found this information helpful! <br>\n",
    "Feel free to save this post for future reference.<br>\n",
    "Let's continue to learn and grow together! <br>\n",
    "<br>\n",
    "\n",
    "[Rajendra Prasad](http://chlorinexxe.github.io/portfolio)\n"
   ]
  }
 ],
 "metadata": {
  "kernelspec": {
   "display_name": "Python 3",
   "language": "python",
   "name": "python3"
  },
  "language_info": {
   "codemirror_mode": {
    "name": "ipython",
    "version": 3
   },
   "file_extension": ".py",
   "mimetype": "text/x-python",
   "name": "python",
   "nbconvert_exporter": "python",
   "pygments_lexer": "ipython3",
   "version": "3.12.4"
  }
 },
 "nbformat": 4,
 "nbformat_minor": 2
}
