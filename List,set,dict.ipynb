{
 "cells": [
  {
   "cell_type": "markdown",
   "metadata": {},
   "source": [
    "# List \n",
    "A sequential collection of elements that is mutable , ordered and allows heterogeneous data types."
   ]
  },
  {
   "cell_type": "markdown",
   "metadata": {},
   "source": [
    "## Creating "
   ]
  },
  {
   "cell_type": "code",
   "execution_count": 1,
   "metadata": {},
   "outputs": [
    {
     "name": "stdout",
     "output_type": "stream",
     "text": [
      "[1, 2, 3, 4]\n",
      "[]\n",
      "['H', 'e', 'l', 'l', 'o']\n",
      "[]\n"
     ]
    }
   ],
   "source": [
    "print(list((1,2,3,4)))      # Create a list using  list(sequence)\n",
    "print(list())               # Create a empty list using list()\n",
    "print(list('Hello'))        # Create a list of string split up\n",
    "print([])                   # Create a list using '[]'   "
   ]
  },
  {
   "cell_type": "markdown",
   "metadata": {},
   "source": [
    "## Manipulation\n",
    "consider list a =[9,8,3,4,2] as a list used to manipulate"
   ]
  },
  {
   "cell_type": "code",
   "execution_count": 2,
   "metadata": {},
   "outputs": [],
   "source": [
    "a=[9,8,3,4,2]"
   ]
  },
  {
   "cell_type": "code",
   "execution_count": 3,
   "metadata": {},
   "outputs": [],
   "source": [
    "a.append(3)         # Add item 3 at the end"
   ]
  },
  {
   "cell_type": "code",
   "execution_count": 4,
   "metadata": {},
   "outputs": [
    {
     "name": "stdout",
     "output_type": "stream",
     "text": [
      "[9, 8, 3, 4, 2, 3]\n"
     ]
    }
   ],
   "source": [
    "print(a)"
   ]
  },
  {
   "cell_type": "code",
   "execution_count": 5,
   "metadata": {},
   "outputs": [
    {
     "name": "stdout",
     "output_type": "stream",
     "text": [
      "[9, 8, 3, 4, 2, 3, 7, 8, 9]\n"
     ]
    }
   ],
   "source": [
    "a.extend([7,8,9])       # Add a list at the end\n",
    "print(a)"
   ]
  },
  {
   "cell_type": "code",
   "execution_count": 6,
   "metadata": {},
   "outputs": [
    {
     "name": "stdout",
     "output_type": "stream",
     "text": [
      "[9, 8, 3, 4, 0, 2, 3, 7, 8, 9]\n"
     ]
    }
   ],
   "source": [
    "a.insert(4,0)           #Insert a item 0 at index 4\n",
    "print(a)"
   ]
  },
  {
   "cell_type": "code",
   "execution_count": 7,
   "metadata": {},
   "outputs": [],
   "source": [
    "a.remove(0)             # Removes the item 0 if exists else it throws error"
   ]
  },
  {
   "cell_type": "code",
   "execution_count": 8,
   "metadata": {},
   "outputs": [
    {
     "data": {
      "text/plain": [
       "9"
      ]
     },
     "execution_count": 8,
     "metadata": {},
     "output_type": "execute_result"
    }
   ],
   "source": [
    "a.pop()                 # Removes and returns the item at the specified index or by default last"
   ]
  },
  {
   "cell_type": "code",
   "execution_count": 9,
   "metadata": {},
   "outputs": [
    {
     "name": "stdout",
     "output_type": "stream",
     "text": [
      "[2, 3, 3, 4, 7, 8, 8, 9]\n"
     ]
    }
   ],
   "source": [
    "a.sort()                # Sorts the list and dont give output\n",
    "print(a)"
   ]
  },
  {
   "cell_type": "code",
   "execution_count": 10,
   "metadata": {},
   "outputs": [
    {
     "name": "stdout",
     "output_type": "stream",
     "text": [
      "[9, 8, 8, 7, 4, 3, 3, 2]\n"
     ]
    }
   ],
   "source": [
    "a.reverse()             # Reverse the list \n",
    "print(a)                # Reverse dont give output "
   ]
  },
  {
   "cell_type": "code",
   "execution_count": 11,
   "metadata": {},
   "outputs": [
    {
     "name": "stdout",
     "output_type": "stream",
     "text": [
      "[]\n"
     ]
    }
   ],
   "source": [
    "a.clear()               # Removes all the elements in the list\n",
    "print(a)"
   ]
  },
  {
   "cell_type": "code",
   "execution_count": null,
   "metadata": {},
   "outputs": [],
   "source": []
  },
  {
   "cell_type": "markdown",
   "metadata": {},
   "source": [
    "## Accessing and slicing\n",
    "consider a=[1,2,3,4,5]"
   ]
  },
  {
   "cell_type": "code",
   "execution_count": 12,
   "metadata": {},
   "outputs": [],
   "source": [
    "a=[1,2,3,4,5]"
   ]
  },
  {
   "cell_type": "code",
   "execution_count": 13,
   "metadata": {},
   "outputs": [
    {
     "name": "stdout",
     "output_type": "stream",
     "text": [
      "4\n",
      "[2, 4]\n",
      "4\n"
     ]
    }
   ],
   "source": [
    "print(a[3])         # Accesing the item at index i\n",
    "print(a[1:4:2])     # Slicing the item by start index , stop index, step\n",
    "print(a[-2])        # Access the element by negative index"
   ]
  },
  {
   "cell_type": "markdown",
   "metadata": {},
   "source": [
    "## Concatenation and repetition\n",
    "consider a=[1,2,3]"
   ]
  },
  {
   "cell_type": "code",
   "execution_count": 14,
   "metadata": {},
   "outputs": [],
   "source": [
    "a=[1,2,3]"
   ]
  },
  {
   "cell_type": "code",
   "execution_count": 15,
   "metadata": {},
   "outputs": [
    {
     "data": {
      "text/plain": [
       "[1, 2, 3, 5, 6, 7]"
      ]
     },
     "execution_count": 15,
     "metadata": {},
     "output_type": "execute_result"
    }
   ],
   "source": [
    "a+[5,6,7]   # Concat element using + operator"
   ]
  },
  {
   "cell_type": "code",
   "execution_count": 16,
   "metadata": {},
   "outputs": [
    {
     "data": {
      "text/plain": [
       "[1, 2, 3, 1, 2, 3, 1, 2, 3]"
      ]
     },
     "execution_count": 16,
     "metadata": {},
     "output_type": "execute_result"
    }
   ],
   "source": [
    "a*3         # Repetion of elements"
   ]
  },
  {
   "cell_type": "markdown",
   "metadata": {},
   "source": [
    "## Additional Info\n",
    "consider a=[1,2,3,4,5]"
   ]
  },
  {
   "cell_type": "code",
   "execution_count": 17,
   "metadata": {},
   "outputs": [],
   "source": [
    "a=[1,2,3,4,5]"
   ]
  },
  {
   "cell_type": "code",
   "execution_count": 18,
   "metadata": {},
   "outputs": [
    {
     "name": "stdout",
     "output_type": "stream",
     "text": [
      "5\n",
      "1\n",
      "3\n"
     ]
    }
   ],
   "source": [
    "print(len(a))           # Print length of a\n",
    "print(a.count(3))       # Print the no of items repeated in a\n",
    "print(a.index(4))       # Print the index of the first occurance of the item also can be manipulated by start index and stop index"
   ]
  },
  {
   "cell_type": "code",
   "execution_count": 19,
   "metadata": {},
   "outputs": [],
   "source": [
    "b=a.copy()              # Create a shallow copy of the list\n",
    "c=a                    # This creates a direct copy of list into c if c gets manipulated a get manipulated too"
   ]
  },
  {
   "cell_type": "code",
   "execution_count": 20,
   "metadata": {},
   "outputs": [
    {
     "name": "stdout",
     "output_type": "stream",
     "text": [
      "id(a) 2214200248768 \n",
      "id(b) 2214200272704 \n",
      "id(c) 2214200248768\n"
     ]
    }
   ],
   "source": [
    "print('id(a)',id(a),'\\nid(b)',id(b),'\\nid(c)',id(c))"
   ]
  },
  {
   "cell_type": "code",
   "execution_count": 21,
   "metadata": {},
   "outputs": [
    {
     "name": "stdout",
     "output_type": "stream",
     "text": [
      "a=[1, 2, 3, 4, 5, 'If you dont use copy this will be added to original list']\n",
      "b=[1, 2, 3, 4, 5]\n",
      "c=[1, 2, 3, 4, 5, 'If you dont use copy this will be added to original list']\n"
     ]
    }
   ],
   "source": [
    "c.append('If you dont use copy this will be added to original list')\n",
    "print(f'a={a}\\nb={b}\\nc={c}')"
   ]
  },
  {
   "cell_type": "code",
   "execution_count": 22,
   "metadata": {},
   "outputs": [
    {
     "name": "stdout",
     "output_type": "stream",
     "text": [
      "True\n",
      "False\n"
     ]
    }
   ],
   "source": [
    "print(4 in a)       # Return true if 4 in the list else false\n",
    "print(4 not in a)   # Return true if 4 in the list else false"
   ]
  },
  {
   "cell_type": "code",
   "execution_count": 23,
   "metadata": {},
   "outputs": [
    {
     "name": "stdout",
     "output_type": "stream",
     "text": [
      "[(0, 5), (1, 4), (2, 3), (3, 2), (4, 1)]\n",
      "[1, 2, 3, 4, 5]\n",
      "54321\n"
     ]
    }
   ],
   "source": [
    "a=[5,4,3,2,1]\n",
    "print(list(enumerate(a)))       # Returns a enumerate object which creates indices to the list\n",
    "print(sorted(a))                # Returns a list of sorted list\n",
    "print(''.join(list(map(str,a))))              # Joins all the items in the list into string with a delimiter"
   ]
  },
  {
   "cell_type": "code",
   "execution_count": 24,
   "metadata": {},
   "outputs": [
    {
     "name": "stdout",
     "output_type": "stream",
     "text": [
      "True\n",
      "True\n"
     ]
    }
   ],
   "source": [
    "print(all(a))                   # Prints true if all elements are true \n",
    "print(any(a))                   # Print true if any elements in the list is true  "
   ]
  },
  {
   "cell_type": "code",
   "execution_count": 25,
   "metadata": {},
   "outputs": [
    {
     "data": {
      "text/plain": [
       "[5, 4, 3, 2, 1]"
      ]
     },
     "execution_count": 25,
     "metadata": {},
     "output_type": "execute_result"
    }
   ],
   "source": [
    "a=[i for i in range(5,0,-1)]        # Create a list using list comprehension \n",
    "a"
   ]
  },
  {
   "cell_type": "code",
   "execution_count": 26,
   "metadata": {},
   "outputs": [
    {
     "data": {
      "text/plain": [
       "[[1, 0, 0, 0, 0],\n",
       " [0, 1, 0, 0, 0],\n",
       " [0, 0, 1, 0, 0],\n",
       " [0, 0, 0, 1, 0],\n",
       " [0, 0, 0, 0, 1]]"
      ]
     },
     "execution_count": 26,
     "metadata": {},
     "output_type": "execute_result"
    }
   ],
   "source": [
    "a=[[ 1 if i==j else 0 for i in range(0,5)] for j in range(0,5)]     # Create a 2 list using List comprehension\n",
    "a"
   ]
  },
  {
   "cell_type": "markdown",
   "metadata": {},
   "source": [
    "# Set\n",
    "Set is a unordered collection of unique items. It is defines by placing comma-separated values inside curly braces '{}'"
   ]
  },
  {
   "cell_type": "markdown",
   "metadata": {},
   "source": [
    "## Creating "
   ]
  },
  {
   "cell_type": "code",
   "execution_count": 27,
   "metadata": {},
   "outputs": [
    {
     "name": "stdout",
     "output_type": "stream",
     "text": [
      "set()\n",
      "{}\n",
      "set()\n"
     ]
    }
   ],
   "source": [
    "a=[1,2,3,4]\n",
    "print(set())        # Create a empty set\n",
    "print({})           # Create a set with specified items\n",
    "print(set())"
   ]
  },
  {
   "cell_type": "markdown",
   "metadata": {},
   "source": [
    "## Manipulation\n",
    "consider a={1,2,3,4,5}"
   ]
  },
  {
   "cell_type": "code",
   "execution_count": 28,
   "metadata": {},
   "outputs": [],
   "source": [
    "a={1,2,3,4,5}"
   ]
  },
  {
   "cell_type": "code",
   "execution_count": 29,
   "metadata": {},
   "outputs": [
    {
     "name": "stdout",
     "output_type": "stream",
     "text": [
      "{1, 2, 3, 4, 5, 6}\n",
      "{1, 2, 3, 4, 5}\n",
      "{1, 2, 3, 4, 5}\n",
      "1\n",
      "{2, 3, 4, 5, 6, 7, 8, 9}\n",
      "set()\n"
     ]
    }
   ],
   "source": [
    "a.add(6)                # Adds an item to the set\n",
    "print(a)\n",
    "a.remove(6)             # Removes the item in the set if it exists ,else returns error\n",
    "print(a)\n",
    "a.discard(6)            # Removes the item in the set if it exists ,else returns none\n",
    "print(a)\n",
    "print(a.pop())          # Removes and returns arbitrary item from the set\n",
    "a.update({6,7,8,9})     # Update a set with the union of itself and others.\n",
    "print(a)\n",
    "a.clear()               # Removes all the elements in the set\n",
    "print(a)"
   ]
  },
  {
   "cell_type": "code",
   "execution_count": 30,
   "metadata": {},
   "outputs": [],
   "source": [
    "a={1,2,3,4,5}\n",
    "b=a.copy()\n",
    "c=a"
   ]
  },
  {
   "cell_type": "code",
   "execution_count": 31,
   "metadata": {},
   "outputs": [
    {
     "name": "stdout",
     "output_type": "stream",
     "text": [
      "id(a) : 2214200198528 \n",
      "id(b) : 2214200198976 \n",
      "id(c) : 2214200198528 \n",
      "Id a and c are same\n"
     ]
    }
   ],
   "source": [
    "print(f'id(a) : {id(a)} \\nid(b) : {id(b)} \\nid(c) : {id(c)} \\nId a and c are same')"
   ]
  },
  {
   "cell_type": "code",
   "execution_count": 32,
   "metadata": {},
   "outputs": [
    {
     "name": "stdout",
     "output_type": "stream",
     "text": [
      "a = {1, 2, 3, 4, 5, 7}\n",
      "b = {1, 2, 3, 4, 5} \n",
      "c = {1, 2, 3, 4, 5, 7}\n"
     ]
    }
   ],
   "source": [
    "a.add(7)\n",
    "print(f'a = {a}\\nb = {b} \\nc = {c}')    # If a get changed c also get changed but not b"
   ]
  },
  {
   "cell_type": "markdown",
   "metadata": {},
   "source": [
    "## Set operations"
   ]
  },
  {
   "cell_type": "code",
   "execution_count": 33,
   "metadata": {},
   "outputs": [],
   "source": [
    "a={1,2,3,4,5}\n",
    "b={4,5,6,7,8}"
   ]
  },
  {
   "cell_type": "code",
   "execution_count": 34,
   "metadata": {},
   "outputs": [
    {
     "name": "stdout",
     "output_type": "stream",
     "text": [
      "{1, 2, 3, 4, 5, 6, 7, 8}\n",
      "{1, 2, 3, 4, 5, 6, 7, 8}\n"
     ]
    }
   ],
   "source": [
    "# Union operation\n",
    "print(a.union(b))       # Returns set with elements from both sets\n",
    "print(a|b)              # Same as union "
   ]
  },
  {
   "cell_type": "code",
   "execution_count": 35,
   "metadata": {},
   "outputs": [
    {
     "name": "stdout",
     "output_type": "stream",
     "text": [
      "{4, 5}\n",
      "{4, 5}\n"
     ]
    }
   ],
   "source": [
    "# Intersection \n",
    "print(a.intersection(b))        # Returns common elements in the set\n",
    "print(a&b)                      # Same as intersection"
   ]
  },
  {
   "cell_type": "code",
   "execution_count": 36,
   "metadata": {},
   "outputs": [
    {
     "name": "stdout",
     "output_type": "stream",
     "text": [
      "{1, 2, 3}\n",
      "{1, 2, 3}\n"
     ]
    }
   ],
   "source": [
    "# Difference \n",
    "print(a.difference(b))          # Returns elements in a not in b\n",
    "print(a-b)                      # Same as difference"
   ]
  },
  {
   "cell_type": "code",
   "execution_count": 37,
   "metadata": {},
   "outputs": [
    {
     "name": "stdout",
     "output_type": "stream",
     "text": [
      "{1, 2, 3, 6, 7, 8}\n",
      "{1, 2, 3, 6, 7, 8}\n"
     ]
    }
   ],
   "source": [
    "#Symmetric Difference           \n",
    "print(a.symmetric_difference(b))        # Returns a set that are not in both set\n",
    "print(a^b)                              # Same as Symmetric difference"
   ]
  },
  {
   "cell_type": "code",
   "execution_count": 38,
   "metadata": {},
   "outputs": [
    {
     "name": "stdout",
     "output_type": "stream",
     "text": [
      "False\n",
      "True\n"
     ]
    }
   ],
   "source": [
    "# Check subset and superset \n",
    "print(a.issubset({1,2,3}))          # Returns True if a is subset\n",
    "print(a.issuperset({1,2,3}))        # Returns True if a is superset"
   ]
  },
  {
   "cell_type": "markdown",
   "metadata": {},
   "source": [
    "## Membership tests"
   ]
  },
  {
   "cell_type": "code",
   "execution_count": 39,
   "metadata": {},
   "outputs": [
    {
     "name": "stdout",
     "output_type": "stream",
     "text": [
      "True\n",
      "False\n"
     ]
    }
   ],
   "source": [
    "print(4 in a)           # Prints true if 4 in a\n",
    "print(4 not in a)       # Prints true if 4 not in a"
   ]
  },
  {
   "cell_type": "markdown",
   "metadata": {},
   "source": [
    "## Iterations"
   ]
  },
  {
   "cell_type": "code",
   "execution_count": 40,
   "metadata": {},
   "outputs": [
    {
     "name": "stdout",
     "output_type": "stream",
     "text": [
      "1\n",
      "2\n",
      "3\n",
      "4\n",
      "5\n"
     ]
    }
   ],
   "source": [
    "# For Iteration\n",
    "for i in a:\n",
    "    print(i)"
   ]
  },
  {
   "cell_type": "code",
   "execution_count": 41,
   "metadata": {},
   "outputs": [
    {
     "data": {
      "text/plain": [
       "{(0, 1), (1, 2), (2, 3), (3, 4), (4, 5)}"
      ]
     },
     "execution_count": 41,
     "metadata": {},
     "output_type": "execute_result"
    }
   ],
   "source": [
    "# Enumerate()\n",
    "set(enumerate(a))   # Returns a enumerate object , yeilding pairs of indexs and an element from the set"
   ]
  },
  {
   "cell_type": "code",
   "execution_count": 42,
   "metadata": {},
   "outputs": [],
   "source": [
    "b=iter(a)   # Creates a iterator object"
   ]
  },
  {
   "cell_type": "code",
   "execution_count": 43,
   "metadata": {},
   "outputs": [
    {
     "data": {
      "text/plain": [
       "1"
      ]
     },
     "execution_count": 43,
     "metadata": {},
     "output_type": "execute_result"
    }
   ],
   "source": [
    "b.__next__()       # Can be used to return next element of the sequence"
   ]
  },
  {
   "cell_type": "code",
   "execution_count": null,
   "metadata": {},
   "outputs": [],
   "source": []
  },
  {
   "cell_type": "markdown",
   "metadata": {},
   "source": [
    "# Dictionary\n",
    "Dictionary is a collection of key value pairs, where key must be unique and is used to access its corresponding value. defined by '{}'"
   ]
  },
  {
   "cell_type": "markdown",
   "metadata": {},
   "source": [
    "## Creating "
   ]
  },
  {
   "cell_type": "code",
   "execution_count": 44,
   "metadata": {},
   "outputs": [
    {
     "name": "stdout",
     "output_type": "stream",
     "text": [
      "{}\n",
      "{1: [1, 2, 3], 2: [2, 3, 4]}\n",
      "{'one': [1, 2, 3], 'two': [4, 5, 6]}\n",
      "{'a': 1, 'b': 2, 'c': 3}\n"
     ]
    }
   ],
   "source": [
    "print(dict())                               # Create a empty dict using dict function\n",
    "print({1:[1,2,3],2:[2,3,4]})                # Create a dict using curly braces\n",
    "print(dict(one=[1,2,3],two=[4,5,6]))        # Create a dict using dict function \n",
    "print(dict([('a', 1), ('b', 2), ('c', 3)])) # Create a dict using list of tuples"
   ]
  },
  {
   "cell_type": "markdown",
   "metadata": {},
   "source": [
    "## Accessing Elements\n",
    "consider a={1: [1,2,3], 2: [4,5,6], 3: [7,8,9]} "
   ]
  },
  {
   "cell_type": "code",
   "execution_count": 45,
   "metadata": {},
   "outputs": [
    {
     "name": "stdout",
     "output_type": "stream",
     "text": [
      "[1, 2, 3]\n"
     ]
    }
   ],
   "source": [
    "a={1: [1,2,3], 2: [4,5,6], 3: [7,8,9]}  # Returns the value associated with key\n",
    "print(a[1])"
   ]
  },
  {
   "cell_type": "code",
   "execution_count": 46,
   "metadata": {},
   "outputs": [
    {
     "name": "stdout",
     "output_type": "stream",
     "text": [
      "[1, 2, 3]\n",
      "None\n",
      "This is the Output\n"
     ]
    }
   ],
   "source": [
    "print((a.get(1)))   # Returns the Value associated with the dict else it will returns a default value(none) or we can return default value\n",
    "print(a.get(4))     # key 4 doesnt exist so it give None as output\n",
    "print(a.get(4,'This is the Output'))    # Default output can be changed"
   ]
  },
  {
   "cell_type": "markdown",
   "metadata": {},
   "source": [
    "## Manipulations\n",
    "consider a={1: [1,2,3], 2: [4,5,6], 3: [7,8,9]} "
   ]
  },
  {
   "cell_type": "code",
   "execution_count": 47,
   "metadata": {},
   "outputs": [],
   "source": [
    "a={1: [1,2,3], 2: [4,5,6], 3: [7,8,9]}"
   ]
  },
  {
   "cell_type": "code",
   "execution_count": 48,
   "metadata": {},
   "outputs": [
    {
     "name": "stdout",
     "output_type": "stream",
     "text": [
      "{1: [1, 2, 3], 2: [4, 5, 6], 3: [7, 8, 9], 4: [11, 12, 13]}\n",
      "{1: [1, 2, 3], 2: [4, 5, 6], 3: [7, 8, 9], 4: [11, 12, 13], 5: [14, 15, 16], 6: [17, 18, 19]}\n"
     ]
    }
   ],
   "source": [
    "a[4]=[11,12,13]     # Sets the Value with the can and can be the existing key\n",
    "print(a)\n",
    "a.update({5:[14,15,16],6:[17,18,19]}) # Update the dictionary with key-value pairs \n",
    "print(a)"
   ]
  },
  {
   "cell_type": "code",
   "execution_count": 49,
   "metadata": {},
   "outputs": [
    {
     "name": "stdout",
     "output_type": "stream",
     "text": [
      "[17, 18, 19]\n",
      "{1: [1, 2, 3], 2: [4, 5, 6], 3: [7, 8, 9], 4: [11, 12, 13], 5: [14, 15, 16]}\n"
     ]
    }
   ],
   "source": [
    "print(a.pop(6,'No output')) # Pops the specified key - value else like get it will return default\n",
    "print(a)"
   ]
  },
  {
   "cell_type": "code",
   "execution_count": 50,
   "metadata": {},
   "outputs": [
    {
     "name": "stdout",
     "output_type": "stream",
     "text": [
      "(5, [14, 15, 16])\n"
     ]
    }
   ],
   "source": [
    "print(a.popitem()) # removes and returns an arbititary key-value pair as tuple if dict is empty then key error"
   ]
  },
  {
   "cell_type": "code",
   "execution_count": 51,
   "metadata": {},
   "outputs": [
    {
     "name": "stdout",
     "output_type": "stream",
     "text": [
      "[14, 15, 16]\n"
     ]
    }
   ],
   "source": [
    "print(a.setdefault(5,[14,15,16]))  # Checks if the key exists else creates a key and adds the default value"
   ]
  },
  {
   "cell_type": "code",
   "execution_count": 52,
   "metadata": {},
   "outputs": [
    {
     "name": "stdout",
     "output_type": "stream",
     "text": [
      "{1: [17, 18, 19], 2: [17, 18, 19]}\n"
     ]
    }
   ],
   "source": [
    "print(dict.fromkeys([1,2],[17,18,19]))   # This method creates a new dictionary with keys from a given iterable (like a list or tuple)."
   ]
  },
  {
   "cell_type": "code",
   "execution_count": 53,
   "metadata": {},
   "outputs": [
    {
     "data": {
      "text/plain": [
       "{7: [17, 18, 19], 8: [17, 18, 19], 9: [17, 18, 19]}"
      ]
     },
     "execution_count": 53,
     "metadata": {},
     "output_type": "execute_result"
    }
   ],
   "source": [
    "b=a.fromkeys([7,8,9],[17,18,19])\n",
    "b"
   ]
  },
  {
   "cell_type": "code",
   "execution_count": 54,
   "metadata": {},
   "outputs": [],
   "source": [
    "b=a.copy()                  # Creates a shallow copy to b        "
   ]
  },
  {
   "cell_type": "code",
   "execution_count": 55,
   "metadata": {},
   "outputs": [],
   "source": [
    "a.clear()                   # Empties the dictionary"
   ]
  },
  {
   "cell_type": "markdown",
   "metadata": {},
   "source": [
    "## Iterations\n",
    "consider a={1: [1,2,3], 2: [4,5,6], 3: [7,8,9]}"
   ]
  },
  {
   "cell_type": "code",
   "execution_count": 56,
   "metadata": {},
   "outputs": [],
   "source": [
    "a={1: [1,2,3], 2: [4,5,6], 3: [7,8,9]}"
   ]
  },
  {
   "cell_type": "code",
   "execution_count": 57,
   "metadata": {},
   "outputs": [
    {
     "name": "stdout",
     "output_type": "stream",
     "text": [
      "1 [1, 2, 3]\n",
      "2 [4, 5, 6]\n",
      "3 [7, 8, 9]\n"
     ]
    }
   ],
   "source": [
    "for i,j in a.items():\n",
    "    print(i,j)"
   ]
  },
  {
   "cell_type": "code",
   "execution_count": 58,
   "metadata": {},
   "outputs": [
    {
     "name": "stdout",
     "output_type": "stream",
     "text": [
      "[1, 2, 3]\n",
      "[1, 2, 3]\n",
      "[[1, 2, 3], [4, 5, 6], [7, 8, 9]]\n"
     ]
    }
   ],
   "source": [
    "print([i for i in a])           # Iterate over the keys in dict\n",
    "print([i for i in a.keys()])    # Iterate over the keys in dict\n",
    "print([i for i in a.values()])  # Iterate over the values in dict"
   ]
  },
  {
   "cell_type": "code",
   "execution_count": 59,
   "metadata": {},
   "outputs": [
    {
     "name": "stdout",
     "output_type": "stream",
     "text": [
      "dict_items([(1, [1, 2, 3]), (2, [4, 5, 6]), (3, [7, 8, 9])])\n",
      "dict_keys([1, 2, 3])\n",
      "dict_values([[1, 2, 3], [4, 5, 6], [7, 8, 9]])\n"
     ]
    }
   ],
   "source": [
    "print(a.items())    # Returns view object of the dict's key-value pair\n",
    "print(a.keys())     # Returns view object of the dict's keys\n",
    "print(a.values())     # Returns view object of the dict's values"
   ]
  },
  {
   "cell_type": "markdown",
   "metadata": {},
   "source": [
    "## Membership Test"
   ]
  },
  {
   "cell_type": "code",
   "execution_count": 60,
   "metadata": {},
   "outputs": [
    {
     "name": "stdout",
     "output_type": "stream",
     "text": [
      "True\n",
      "False\n",
      "True\n"
     ]
    }
   ],
   "source": [
    "print(3 in a )      # Returns True if 3 in a\n",
    "print(3 not in a)   # Returns True if 3 not in a\n",
    "print([1,2,3] in a.values())    # Can be modified to get memberships of the dict"
   ]
  },
  {
   "cell_type": "markdown",
   "metadata": {},
   "source": [
    "I hope you found this information helpful! <br>\n",
    "Feel free to save this post for future reference.<br>\n",
    "Let's continue to learn and grow together! <br>\n",
    "<br>\n",
    "\n",
    "[Rajendra Prasad](http://chlorinexxe.github.io/portfolio)\n"
   ]
  }
 ],
 "metadata": {
  "kernelspec": {
   "display_name": "Python 3",
   "language": "python",
   "name": "python3"
  },
  "language_info": {
   "codemirror_mode": {
    "name": "ipython",
    "version": 3
   },
   "file_extension": ".py",
   "mimetype": "text/x-python",
   "name": "python",
   "nbconvert_exporter": "python",
   "pygments_lexer": "ipython3",
   "version": "3.12.4"
  }
 },
 "nbformat": 4,
 "nbformat_minor": 2
}
